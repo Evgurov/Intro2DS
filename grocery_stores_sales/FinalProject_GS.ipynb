{
 "cells": [
  {
   "cell_type": "markdown",
   "metadata": {},
   "source": [
    "# Final Project Assignment\n",
    "---\n",
    "Complete a Kaggle Store Sales getting started competition \n",
    "https://www.kaggle.com/competitions/store-sales-time-series-forecasting/"
   ]
  },
  {
   "cell_type": "markdown",
   "metadata": {},
   "source": [
    "## Problem statement\n",
    "text here"
   ]
  },
  {
   "cell_type": "markdown",
   "metadata": {},
   "source": [
    "## Problem solution"
   ]
  },
  {
   "cell_type": "code",
   "execution_count": 1,
   "metadata": {},
   "outputs": [],
   "source": [
    "#import appropriate modules\n",
    "import pandas as pd\n",
    "import seaborn as sns\n",
    "import numpy as np\n",
    "sns.set()"
   ]
  },
  {
   "cell_type": "code",
   "execution_count": 2,
   "metadata": {},
   "outputs": [
    {
     "name": "stdout",
     "output_type": "stream",
     "text": [
      "./Data/store-sales-time-series-forecasting/submission.csv\n",
      "./Data/store-sales-time-series-forecasting/test.csv\n",
      "./Data/store-sales-time-series-forecasting/oil.csv\n",
      "./Data/store-sales-time-series-forecasting/transactions.csv\n",
      "./Data/store-sales-time-series-forecasting/sample_submission.csv\n",
      "./Data/store-sales-time-series-forecasting/train.csv\n",
      "./Data/store-sales-time-series-forecasting/holidays_events.csv\n",
      "./Data/store-sales-time-series-forecasting/stores.csv\n"
     ]
    }
   ],
   "source": [
    "#read data\n",
    "import glob\n",
    "dfs = dict()\n",
    "\n",
    "for df_name in glob.glob('./Data/store-sales-time-series-forecasting/*.csv'):\n",
    "        print(df_name)\n",
    "        dfs[df_name.split('/')[-1].split('.')[0]] = pd.read_csv(df_name)"
   ]
  },
  {
   "cell_type": "markdown",
   "metadata": {},
   "source": [
    "### Basic Data Preprocessing\n",
    "text of explanation of basic transformations"
   ]
  },
  {
   "cell_type": "code",
   "execution_count": 3,
   "metadata": {},
   "outputs": [],
   "source": [
    "#merge dfs\n",
    "full_df = pd.concat([dfs['train'], dfs['test']], ignore_index=True)\n",
    "full_df.drop(columns=['id'], inplace=True)"
   ]
  },
  {
   "cell_type": "code",
   "execution_count": 4,
   "metadata": {},
   "outputs": [],
   "source": [
    "#work with date features\n",
    "full_df['date'] = pd.to_datetime(full_df['date'], format='%Y-%m-%d %H:%M:%S')\n",
    "full_df['year'] = full_df['date'].dt.year\n",
    "full_df['month'] = full_df['date'].dt.month\n",
    "full_df['day_of_month'] = full_df['date'].dt.day\n",
    "full_df['day_of_week'] = full_df['date'].dt.day_of_week\n",
    "full_df.drop(columns=['date'], inplace=True)"
   ]
  },
  {
   "cell_type": "code",
   "execution_count": 5,
   "metadata": {},
   "outputs": [],
   "source": [
    "#encode categorical columns\n",
    "from sklearn.preprocessing import OrdinalEncoder\n",
    "enc = OrdinalEncoder()\n",
    "\n",
    "features_to_encode = ['family']\n",
    "full_df['family'] = enc.fit_transform(full_df[features_to_encode])"
   ]
  },
  {
   "cell_type": "markdown",
   "metadata": {},
   "source": [
    "### Baseline Model Training"
   ]
  },
  {
   "cell_type": "code",
   "execution_count": 6,
   "metadata": {},
   "outputs": [],
   "source": [
    "#define X and y\n",
    "df_local = full_df.iloc[:dfs['train'].shape[0]]\n",
    "df_kaggle = full_df.iloc[-dfs['test'].shape[0]:]\n",
    "\n",
    "X = df_local.drop(columns=['sales'])\n",
    "y = df_local['sales']\n",
    "X_kaggle_test = df_kaggle.drop(columns=['sales'])"
   ]
  },
  {
   "cell_type": "code",
   "execution_count": 7,
   "metadata": {},
   "outputs": [],
   "source": [
    "#split data\n",
    "from sklearn.model_selection import TimeSeriesSplit\n",
    "tscv = TimeSeriesSplit()\n",
    "train_idx, test_idx = list(tscv.split(X))[-1]\n",
    "\n",
    "X_train, X_test = X.iloc[train_idx], X.iloc[test_idx]\n",
    "y_train, y_test = y.iloc[train_idx], y.iloc[test_idx]"
   ]
  },
  {
   "cell_type": "code",
   "execution_count": 8,
   "metadata": {},
   "outputs": [],
   "source": [
    "#define unordered categorical features\n",
    "cols = list(X.columns)\n",
    "unord_cat_cols = ['store_nbr', 'family']\n",
    "cat_mask = [(col in unord_cat_cols) for col in cols]"
   ]
  },
  {
   "cell_type": "code",
   "execution_count": 9,
   "metadata": {},
   "outputs": [],
   "source": [
    "#create baseline model\n",
    "from sklearn.ensemble import HistGradientBoostingRegressor\n",
    "from sklearn.ensemble import GradientBoostingRegressor\n",
    "\n",
    "hgbr = HistGradientBoostingRegressor(categorical_features=cat_mask, random_state=43)\n",
    "\n",
    "hgbr.fit(X_train, y_train);"
   ]
  },
  {
   "cell_type": "code",
   "execution_count": 10,
   "metadata": {},
   "outputs": [
    {
     "data": {
      "text/plain": [
       "1.069"
      ]
     },
     "execution_count": 10,
     "metadata": {},
     "output_type": "execute_result"
    }
   ],
   "source": [
    "#test results\n",
    "from sklearn.metrics import mean_squared_log_error\n",
    "\n",
    "y_pred = hgbr.predict(X_test)\n",
    "y_pred[y_pred < 0] = 0\n",
    "round(mean_squared_log_error(y_test, y_pred, squared=False), ndigits=3)"
   ]
  },
  {
   "cell_type": "markdown",
   "metadata": {},
   "source": [
    "### Exploratory analysis and further feature generation"
   ]
  },
  {
   "cell_type": "code",
   "execution_count": 11,
   "metadata": {},
   "outputs": [],
   "source": [
    "#code here"
   ]
  },
  {
   "cell_type": "markdown",
   "metadata": {},
   "source": [
    "### Hyperparameter tuning"
   ]
  },
  {
   "cell_type": "code",
   "execution_count": 12,
   "metadata": {},
   "outputs": [
    {
     "data": {
      "text/plain": [
       "{'categorical_features': [True, True, False, False, False, False, False],\n",
       " 'early_stopping': 'auto',\n",
       " 'l2_regularization': 0.0,\n",
       " 'learning_rate': 0.1,\n",
       " 'loss': 'squared_error',\n",
       " 'max_bins': 255,\n",
       " 'max_depth': None,\n",
       " 'max_iter': 100,\n",
       " 'max_leaf_nodes': 31,\n",
       " 'min_samples_leaf': 20,\n",
       " 'monotonic_cst': None,\n",
       " 'n_iter_no_change': 10,\n",
       " 'quantile': None,\n",
       " 'random_state': 43,\n",
       " 'scoring': 'loss',\n",
       " 'tol': 1e-07,\n",
       " 'validation_fraction': 0.1,\n",
       " 'verbose': 0,\n",
       " 'warm_start': False}"
      ]
     },
     "execution_count": 12,
     "metadata": {},
     "output_type": "execute_result"
    }
   ],
   "source": [
    "hgbr.get_params()"
   ]
  },
  {
   "cell_type": "markdown",
   "metadata": {},
   "source": [
    "## Dumb grid search on 0.8*X"
   ]
  },
  {
   "cell_type": "code",
   "execution_count": 13,
   "metadata": {},
   "outputs": [
    {
     "name": "stdout",
     "output_type": "stream",
     "text": [
      "Best score: 356.2861272003729\n",
      "Best parametors: {'learning_rate': 0.1, 'max_iter': 100, 'max_leaf_nodes': 40}\n"
     ]
    }
   ],
   "source": [
    "from sklearn.metrics import mean_squared_error\n",
    "\n",
    "param_grid = {\n",
    "    'learning_rate' : np.linspace(0.01, 0.1, 2),\n",
    "    'max_iter' : range(100, 200, 50),\n",
    "    'max_leaf_nodes' : range(30, 50, 10)\n",
    "}\n",
    "\n",
    "best_hgbr = hgbr\n",
    "\n",
    "y_pred = hgbr.predict(X_test)\n",
    "y_pred[y_pred < 0] = 0\n",
    "\n",
    "best_score = mean_squared_error(y_test, y_pred, squared=False)\n",
    "\n",
    "best_params = {\n",
    "    'learning_rate' : hgbr.learning_rate,\n",
    "    'max_iter' : hgbr.max_iter,\n",
    "    'max_leaf_nodes' : hgbr.max_leaf_nodes\n",
    "}\n",
    "\n",
    "for learning_rate in param_grid['learning_rate']:\n",
    "    for max_iter in param_grid['max_iter']:\n",
    "        for max_leaf_nodes in param_grid['max_leaf_nodes']:\n",
    "            hgbr = HistGradientBoostingRegressor(learning_rate=learning_rate, max_iter=max_iter, max_leaf_nodes=max_leaf_nodes, categorical_features=cat_mask, random_state=43)\n",
    "            hgbr.fit(X_train, y_train)\n",
    "            y_pred = hgbr.predict(X_test)\n",
    "            y_pred[y_pred < 0] = 0\n",
    "            score = mean_squared_error(y_test, y_pred, squared=False)\n",
    "            if (score < best_score):\n",
    "                best_score = score\n",
    "                best_hgbr = hgbr\n",
    "                best_params['learning_rate'] = learning_rate\n",
    "                best_params['max_iter'] = max_iter\n",
    "                best_params['max_leaf_nodes'] = max_leaf_nodes\n",
    "\n",
    "print(\"Best score:\", best_score)\n",
    "print(\"Best parametors:\", best_params)"
   ]
  },
  {
   "cell_type": "markdown",
   "metadata": {},
   "source": [
    "## Genrator GridSearch on 0.8*X"
   ]
  },
  {
   "cell_type": "code",
   "execution_count": 14,
   "metadata": {},
   "outputs": [
    {
     "name": "stdout",
     "output_type": "stream",
     "text": [
      "Fitting 1 folds for each of 8 candidates, totalling 8 fits\n",
      "[CV 1/1] END learning_rate=0.01, max_iter=100, max_leaf_nodes=30;, score=-592977.431 total time=   9.3s\n",
      "[CV 1/1] END learning_rate=0.01, max_iter=100, max_leaf_nodes=40;, score=-570178.178 total time=  10.5s\n",
      "[CV 1/1] END learning_rate=0.01, max_iter=150, max_leaf_nodes=30;, score=-401071.602 total time=  13.2s\n",
      "[CV 1/1] END learning_rate=0.01, max_iter=150, max_leaf_nodes=40;, score=-378875.166 total time=  15.2s\n",
      "[CV 1/1] END learning_rate=0.1, max_iter=100, max_leaf_nodes=30;, score=-127375.640 total time=   8.1s\n",
      "[CV 1/1] END learning_rate=0.1, max_iter=100, max_leaf_nodes=40;, score=-126947.616 total time=   8.9s\n",
      "[CV 1/1] END learning_rate=0.1, max_iter=150, max_leaf_nodes=30;, score=-128205.964 total time=  13.2s\n",
      "[CV 1/1] END learning_rate=0.1, max_iter=150, max_leaf_nodes=40;, score=-129180.719 total time=  12.2s\n"
     ]
    },
    {
     "data": {
      "text/plain": [
       "1.0788717348828145"
      ]
     },
     "execution_count": 14,
     "metadata": {},
     "output_type": "execute_result"
    }
   ],
   "source": [
    "from sklearn.model_selection import GridSearchCV\n",
    "\n",
    "param_grid = {\n",
    "    'learning_rate' : np.linspace(0.01, 0.1, 2),\n",
    "    'max_iter' : range(100, 200, 50),\n",
    "    'max_leaf_nodes' : range(30, 50, 10)\n",
    "}\n",
    "\n",
    "def cv_gen():\n",
    "    yield train_idx, test_idx\n",
    "\n",
    "gs = GridSearchCV(estimator=hgbr, param_grid=param_grid, scoring='neg_mean_squared_error', cv=cv_gen(), verbose=3, refit=False)\n",
    "\n",
    "gs.fit(X, y)\n",
    "\n",
    "best_params = gs.best_params_\n",
    "\n",
    "new_best_hgbr = HistGradientBoostingRegressor(categorical_features=cat_mask, random_state=43, **best_params)\n",
    "\n",
    "new_best_hgbr.fit(X_train, y_train)\n",
    "y_pred = new_best_hgbr.predict(X_test)\n",
    "y_pred[y_pred < 0] = 0\n",
    "\n",
    "mean_squared_log_error(y_test, y_pred, squared=False)"
   ]
  },
  {
   "cell_type": "code",
   "execution_count": 15,
   "metadata": {},
   "outputs": [
    {
     "data": {
      "text/plain": [
       "{'learning_rate': 0.1, 'max_iter': 100, 'max_leaf_nodes': 40}"
      ]
     },
     "execution_count": 15,
     "metadata": {},
     "output_type": "execute_result"
    }
   ],
   "source": [
    "gs.best_params_"
   ]
  },
  {
   "cell_type": "code",
   "execution_count": 16,
   "metadata": {},
   "outputs": [
    {
     "name": "stdout",
     "output_type": "stream",
     "text": [
      "Fitting 5 folds for each of 8 candidates, totalling 40 fits\n",
      "[CV 1/5] END learning_rate=0.01, max_iter=100, max_leaf_nodes=30;, score=-313232.959 total time=   4.1s\n",
      "[CV 2/5] END learning_rate=0.01, max_iter=100, max_leaf_nodes=30;, score=-365041.595 total time=   4.3s\n",
      "[CV 3/5] END learning_rate=0.01, max_iter=100, max_leaf_nodes=30;, score=-546964.301 total time=   6.0s\n",
      "[CV 4/5] END learning_rate=0.01, max_iter=100, max_leaf_nodes=30;, score=-535092.081 total time=   7.1s\n",
      "[CV 5/5] END learning_rate=0.01, max_iter=100, max_leaf_nodes=30;, score=-592977.431 total time=   9.5s\n",
      "[CV 1/5] END learning_rate=0.01, max_iter=100, max_leaf_nodes=40;, score=-309641.201 total time=   3.4s\n",
      "[CV 2/5] END learning_rate=0.01, max_iter=100, max_leaf_nodes=40;, score=-348973.748 total time=   4.6s\n",
      "[CV 3/5] END learning_rate=0.01, max_iter=100, max_leaf_nodes=40;, score=-523787.733 total time=   7.4s\n",
      "[CV 4/5] END learning_rate=0.01, max_iter=100, max_leaf_nodes=40;, score=-504991.631 total time=   8.2s\n",
      "[CV 5/5] END learning_rate=0.01, max_iter=100, max_leaf_nodes=40;, score=-570178.178 total time=   9.7s\n",
      "[CV 1/5] END learning_rate=0.01, max_iter=150, max_leaf_nodes=30;, score=-250391.923 total time=   5.7s\n",
      "[CV 2/5] END learning_rate=0.01, max_iter=150, max_leaf_nodes=30;, score=-267849.561 total time=   8.0s\n",
      "[CV 3/5] END learning_rate=0.01, max_iter=150, max_leaf_nodes=30;, score=-409183.465 total time=   9.4s\n",
      "[CV 4/5] END learning_rate=0.01, max_iter=150, max_leaf_nodes=30;, score=-390651.390 total time=  11.3s\n",
      "[CV 5/5] END learning_rate=0.01, max_iter=150, max_leaf_nodes=30;, score=-401071.602 total time=  13.2s\n",
      "[CV 1/5] END learning_rate=0.01, max_iter=150, max_leaf_nodes=40;, score=-246810.524 total time=   6.1s\n",
      "[CV 2/5] END learning_rate=0.01, max_iter=150, max_leaf_nodes=40;, score=-255342.364 total time=   8.1s\n",
      "[CV 3/5] END learning_rate=0.01, max_iter=150, max_leaf_nodes=40;, score=-394484.830 total time=  11.6s\n",
      "[CV 4/5] END learning_rate=0.01, max_iter=150, max_leaf_nodes=40;, score=-363016.503 total time=  13.0s\n",
      "[CV 5/5] END learning_rate=0.01, max_iter=150, max_leaf_nodes=40;, score=-378875.166 total time=  16.7s\n",
      "[CV 1/5] END learning_rate=0.1, max_iter=100, max_leaf_nodes=30;, score=-177799.112 total time=   3.8s\n",
      "[CV 2/5] END learning_rate=0.1, max_iter=100, max_leaf_nodes=30;, score=-168040.416 total time=   4.4s\n",
      "[CV 3/5] END learning_rate=0.1, max_iter=100, max_leaf_nodes=30;, score=-234073.942 total time=   6.0s\n",
      "[CV 4/5] END learning_rate=0.1, max_iter=100, max_leaf_nodes=30;, score=-194575.292 total time=   7.0s\n",
      "[CV 5/5] END learning_rate=0.1, max_iter=100, max_leaf_nodes=30;, score=-127375.640 total time=   9.6s\n",
      "[CV 1/5] END learning_rate=0.1, max_iter=100, max_leaf_nodes=40;, score=-177265.964 total time=   4.0s\n",
      "[CV 2/5] END learning_rate=0.1, max_iter=100, max_leaf_nodes=40;, score=-170165.782 total time=   5.1s\n",
      "[CV 3/5] END learning_rate=0.1, max_iter=100, max_leaf_nodes=40;, score=-242250.625 total time=   6.5s\n",
      "[CV 4/5] END learning_rate=0.1, max_iter=100, max_leaf_nodes=40;, score=-193344.310 total time=   8.4s\n",
      "[CV 5/5] END learning_rate=0.1, max_iter=100, max_leaf_nodes=40;, score=-126947.616 total time=   9.3s\n",
      "[CV 1/5] END learning_rate=0.1, max_iter=150, max_leaf_nodes=30;, score=-176825.481 total time=   4.8s\n",
      "[CV 2/5] END learning_rate=0.1, max_iter=150, max_leaf_nodes=30;, score=-171606.296 total time=   6.5s\n",
      "[CV 3/5] END learning_rate=0.1, max_iter=150, max_leaf_nodes=30;, score=-229941.580 total time=   8.1s\n",
      "[CV 4/5] END learning_rate=0.1, max_iter=150, max_leaf_nodes=30;, score=-189550.813 total time=   9.4s\n",
      "[CV 5/5] END learning_rate=0.1, max_iter=150, max_leaf_nodes=30;, score=-128205.964 total time=  12.1s\n",
      "[CV 1/5] END learning_rate=0.1, max_iter=150, max_leaf_nodes=40;, score=-176581.872 total time=   4.4s\n",
      "[CV 2/5] END learning_rate=0.1, max_iter=150, max_leaf_nodes=40;, score=-170766.044 total time=   6.5s\n",
      "[CV 3/5] END learning_rate=0.1, max_iter=150, max_leaf_nodes=40;, score=-238996.158 total time=   9.0s\n",
      "[CV 4/5] END learning_rate=0.1, max_iter=150, max_leaf_nodes=40;, score=-189899.018 total time=  10.3s\n",
      "[CV 5/5] END learning_rate=0.1, max_iter=150, max_leaf_nodes=40;, score=-129180.719 total time=  12.9s\n"
     ]
    },
    {
     "data": {
      "text/plain": [
       "1.0554867495168694"
      ]
     },
     "execution_count": 16,
     "metadata": {},
     "output_type": "execute_result"
    }
   ],
   "source": [
    "from sklearn.model_selection import GridSearchCV\n",
    "\n",
    "param_grid = {\n",
    "    'learning_rate' : np.linspace(0.01, 0.1, 2),\n",
    "    'max_iter' : range(100, 200, 50),\n",
    "    'max_leaf_nodes' : range(30, 50, 10)\n",
    "}\n",
    "\n",
    "gs = GridSearchCV(estimator=hgbr, param_grid=param_grid, scoring='neg_mean_squared_error', cv=tscv, verbose=3, refit=False)\n",
    "\n",
    "gs.fit(X, y)\n",
    "\n",
    "best_params = gs.best_params_\n",
    "\n",
    "new_best_hgbr = HistGradientBoostingRegressor(categorical_features=cat_mask, random_state=43, **best_params)\n",
    "\n",
    "new_best_hgbr.fit(X_train, y_train)\n",
    "y_pred = new_best_hgbr.predict(X_test)\n",
    "y_pred[y_pred < 0] = 0\n",
    "\n",
    "mean_squared_log_error(y_test, y_pred, squared=False)"
   ]
  },
  {
   "cell_type": "code",
   "execution_count": 17,
   "metadata": {},
   "outputs": [
    {
     "data": {
      "text/plain": [
       "{'learning_rate': 0.1, 'max_iter': 150, 'max_leaf_nodes': 30}"
      ]
     },
     "execution_count": 17,
     "metadata": {},
     "output_type": "execute_result"
    }
   ],
   "source": [
    "gs.best_params_"
   ]
  },
  {
   "cell_type": "markdown",
   "metadata": {},
   "source": [
    "### Kaggle prediction evaluation"
   ]
  },
  {
   "cell_type": "code",
   "execution_count": 14,
   "metadata": {},
   "outputs": [],
   "source": [
    "#for Kaggle\n",
    "y_kaggle_pred = hgbr.predict(X_kaggle_test)\n",
    "y_kaggle_pred[y_kaggle_pred < 0] = 0\n",
    "dfs['sample_submission']['sales'] = y_kaggle_pred\n",
    "dfs['sample_submission'].to_csv('submission.csv', index=False)"
   ]
  },
  {
   "cell_type": "markdown",
   "metadata": {},
   "source": [
    "## Wrap up and results analysis\n",
    "text here"
   ]
  }
 ],
 "metadata": {
  "kernelspec": {
   "display_name": "Python 3.8.10 64-bit",
   "language": "python",
   "name": "python3"
  },
  "language_info": {
   "codemirror_mode": {
    "name": "ipython",
    "version": 3
   },
   "file_extension": ".py",
   "mimetype": "text/x-python",
   "name": "python",
   "nbconvert_exporter": "python",
   "pygments_lexer": "ipython3",
   "version": "3.8.10"
  },
  "orig_nbformat": 4,
  "vscode": {
   "interpreter": {
    "hash": "916dbcbb3f70747c44a77c7bcd40155683ae19c65e1c03b4aa3499c5328201f1"
   }
  }
 },
 "nbformat": 4,
 "nbformat_minor": 2
}
