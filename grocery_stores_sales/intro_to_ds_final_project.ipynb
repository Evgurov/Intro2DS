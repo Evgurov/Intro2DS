{
  "cells": [
    {
      "cell_type": "code",
      "execution_count": 1,
      "metadata": {
        "id": "hW97oRAaIZpy"
      },
      "outputs": [],
      "source": [
        "# !unzip store-sales-time-series-forecasting.zip"
      ]
    },
    {
      "cell_type": "code",
      "execution_count": 2,
      "metadata": {
        "id": "5UpP3MiAJEKb"
      },
      "outputs": [],
      "source": [
        "import pandas as pd\n",
        "import numpy as np\n",
        "import matplotlib.pyplot as plt\n",
        "import seaborn as sns\n",
        "import datetime\n",
        "\n",
        "from sklearn.model_selection import train_test_split"
      ]
    },
    {
      "cell_type": "code",
      "execution_count": 3,
      "metadata": {
        "id": "JNdHhp3ibomh"
      },
      "outputs": [],
      "source": [
        "pd.set_option('float_format', '{:f}'.format)"
      ]
    },
    {
      "cell_type": "markdown",
      "metadata": {
        "id": "7tAnLmNLOn5E"
      },
      "source": [
        "##train.csv\n",
        "The training data, comprising time series of features store_nbr, family, and onpromotion as well as the target sales.\n",
        "\n",
        "* **store_nbr** identifies the store at which the products are sold.\n",
        "* **family** identifies the type of product sold.\n",
        "* **sales** gives the total sales for a product family at a particular store at a given date. Fractional values are possible since products can be sold in fractional units (1.5 kg of cheese, for instance, as opposed to 1 bag of chips).\n",
        "* **onpromotion** gives the total number of items in a product family that were being promoted at a store at a given date.\n",
        "\n",
        "##test.csv\n",
        "The test data, having the same features as the training data. You will predict  the target sales for the dates in this file.\n",
        "\n",
        "The dates in the test data are for the 15 days after the last date in the training data.\n",
        "\n",
        "##sample_submission.csv\n",
        "A sample submission file in the correct format.\n",
        "\n",
        "##stores.csv\n",
        "Store metadata, including city, state, type, and cluster.\n",
        "* **cluster** is a grouping of similar stores.\n",
        "\n",
        "##oil.csv\n",
        "Daily oil price. Includes values during both the train and test data timeframes. (Ecuador is an oil-dependent country and it's economical health is highly vulnerable to shocks in oil prices.)\n",
        "\n",
        "##holidays_events.csv\n",
        "Holidays and Events, with metadata\n",
        "\n",
        "\n",
        "NOTE: Pay special attention to the transferred column. A holiday that is transferred officially falls on that calendar day, but was moved to another date by the government. A transferred day is more like a normal day than a holiday. To find the day that it was actually celebrated, look for the corresponding row where type is Transfer. For example, the holiday Independencia de Guayaquil was transferred from 2012-10-09 to 2012-10-12, which means it was celebrated on 2012-10-12. Days that are type Bridge are extra days that are added to a holiday (e.g., to extend the break across a long weekend). These are frequently made up by the type yhk Day which is a day not normally scheduled for yhk (e.g., Saturday) that is meant to payback the Bridge.\n",
        "Additional holidays are days added a regular calendar holiday, for example, as typically happens around Christmas (making Christmas Eve a holiday)."
      ]
    },
    {
      "cell_type": "markdown",
      "metadata": {
        "id": "9PwreGr9ck6K"
      },
      "source": [
        "# Several questions to data:\n",
        "* Trends of sales\n",
        "    * by all time\n",
        "    * day-by-day changes throughout week\n",
        "    * week-by-week changes throughout month\n",
        "    * monthly changes throughout each year\n",
        "    \n",
        "* How does oil prices affect sales if so?\n",
        "* How differ nb stores?"
      ]
    },
    {
      "cell_type": "code",
      "execution_count": 4,
      "metadata": {
        "colab": {
          "base_uri": "https://localhost:8080/"
        },
        "id": "xHLKN3K-JERT",
        "outputId": "fe4d74fe-f7df-459d-8456-619e555588eb"
      },
      "outputs": [
        {
          "name": "stdout",
          "output_type": "stream",
          "text": [
            "submission.csv\n",
            "Missing column provided to 'parse_dates': 'date'\n",
            "\n",
            "test.csv\n",
            "\n",
            "oil.csv\n",
            "\n",
            "transactions.csv\n",
            "\n",
            "sample_submission.csv\n",
            "Missing column provided to 'parse_dates': 'date'\n",
            "\n",
            "train.csv\n",
            "\n",
            "holidays_events.csv\n",
            "\n",
            "stores.csv\n",
            "Missing column provided to 'parse_dates': 'date'\n",
            "\n"
          ]
        }
      ],
      "source": [
        "import glob\n",
        "import pandas as pd\n",
        "\n",
        "dfs = dict()\n",
        "\n",
        "for df_name in glob.glob('*.csv'):\n",
        "    print(df_name)\n",
        "    \n",
        "    try:\n",
        "        dfs[df_name.split('.')[0]] = pd.read_csv(df_name, parse_dates=['date'])\n",
        "    except Exception as err:\n",
        "        print(err)\n",
        "        dfs[df_name.split('.')[0]] = pd.read_csv(df_name)\n",
        "\n",
        "    print()\n",
        "\n",
        "df_train = dfs['train']\n"
      ]
    },
    {
      "cell_type": "code",
      "execution_count": 5,
      "metadata": {
        "colab": {
          "base_uri": "https://localhost:8080/",
          "height": 295
        },
        "id": "YsScO3h7Vopk",
        "outputId": "c5d4cf17-37fb-4cb0-a892-a6bb60382dcc"
      },
      "outputs": [
        {
          "data": {
            "text/plain": [
              "<AxesSubplot:>"
            ]
          },
          "execution_count": 5,
          "metadata": {},
          "output_type": "execute_result"
        },
        {
          "data": {
            "image/png": "[encoded data removed]",
            "text/plain": [
              "<Figure size 432x288 with 1 Axes>"
            ]
          },
          "metadata": {
            "needs_background": "light"
          },
          "output_type": "display_data"
        }
      ],
      "source": [
        "df_train[(df_train['store_nbr'] == 1) & (df_train['family'] == 'AUTOMOTIVE')]['sales'].plot()"
      ]
    },
    {
      "cell_type": "code",
      "execution_count": 6,
      "metadata": {
        "colab": {
          "base_uri": "https://localhost:8080/",
          "height": 295
        },
        "id": "tf53-1qlXjiq",
        "outputId": "fd792175-2300-42bb-8f8e-248c25f702be"
      },
      "outputs": [
        {
          "data": {
            "text/plain": [
              "<AxesSubplot:>"
            ]
          },
          "execution_count": 6,
          "metadata": {},
          "output_type": "execute_result"
        },
        {
          "data": {
            "image/png": "[encoded data removed]",
            "text/plain": [
              "<Figure size 432x288 with 1 Axes>"
            ]
          },
          "metadata": {
            "needs_background": "light"
          },
          "output_type": "display_data"
        }
      ],
      "source": [
        "df_train[(df_train['store_nbr'] == 1) & (df_train['family'] == 'BEVERAGES')]['sales'].plot()"
      ]
    },
    {
      "cell_type": "code",
      "execution_count": 7,
      "metadata": {
        "colab": {
          "base_uri": "https://localhost:8080/",
          "height": 1000
        },
        "id": "-zAUQuJPXjpr",
        "outputId": "f21c3fc8-d5ce-4705-c50e-d600042a37f2"
      },
      "outputs": [
        {
          "data": {
            "image/png": "[encoded data removed]",
            "text/plain": [
              "<Figure size 1141.38x360 with 1 Axes>"
            ]
          },
          "metadata": {
            "needs_background": "light"
          },
          "output_type": "display_data"
        },
        {
          "data": {
            "image/png": "[encoded data removed]",
            "text/plain": [
              "<Figure size 1141.38x360 with 1 Axes>"
            ]
          },
          "metadata": {
            "needs_background": "light"
          },
          "output_type": "display_data"
        },
        {
          "data": {
            "image/png": "[encoded data removed]",
            "text/plain": [
              "<Figure size 1141.38x360 with 1 Axes>"
            ]
          },
          "metadata": {
            "needs_background": "light"
          },
          "output_type": "display_data"
        }
      ],
      "source": [
        "df_train_date = df_train.set_index('date')\n",
        "\n",
        "daily_sales   = df_train_date.resample('D').sales.mean().to_frame()  ## Resample sales by day\n",
        "weekly_sales  = df_train_date.resample('W').sales.mean().to_frame()  ## Resample sales by week\n",
        "monthly_sales = df_train_date.resample('M').sales.mean().to_frame()  ## Resample sales by month\n",
        "\n",
        "df = [daily_sales,weekly_sales,monthly_sales]\n",
        "titles = ['Daily Avg. Sales','Weekly Avg. Sales','Monthly Avg. Sales']\n",
        "\n",
        "for i, j in zip(df,titles):\n",
        "    \n",
        "    sns.relplot(x=i.index,y=i.sales,kind='line',aspect=3,hue=i.index.year)\n",
        "    plt.xlabel('Date')\n",
        "    plt.ylabel('Avg. Sales')\n",
        "    plt.title(j)\n",
        "\n",
        "plt.show()"
      ]
    },
    {
      "cell_type": "code",
      "execution_count": 8,
      "metadata": {
        "colab": {
          "base_uri": "https://localhost:8080/",
          "height": 452
        },
        "id": "wYOZcV_yVowJ",
        "outputId": "9f4e49c6-aaa1-4578-a532-d0aa84a39c09"
      },
      "outputs": [
        {
          "data": {
            "text/plain": [
              "<AxesSubplot:xlabel='family'>"
            ]
          },
          "execution_count": 8,
          "metadata": {},
          "output_type": "execute_result"
        },
        {
          "data": {
            "image/png": "[encoded data removed]",
            "text/plain": [
              "<Figure size 432x288 with 1 Axes>"
            ]
          },
          "metadata": {
            "needs_background": "light"
          },
          "output_type": "display_data"
        }
      ],
      "source": [
        "df_train.groupby(['family']).sales.sum().sort_values(ascending=False).plot(kind='bar', )"
      ]
    },
    {
      "cell_type": "code",
      "execution_count": 9,
      "metadata": {
        "colab": {
          "base_uri": "https://localhost:8080/",
          "height": 452
        },
        "id": "OnaXqWE_Vozo",
        "outputId": "5b93a0f3-6fc0-4e9c-a556-1d58c06f39e8"
      },
      "outputs": [
        {
          "data": {
            "text/plain": [
              "<AxesSubplot:xlabel='family'>"
            ]
          },
          "execution_count": 9,
          "metadata": {},
          "output_type": "execute_result"
        },
        {
          "data": {
            "image/png": "[encoded data removed]",
            "text/plain": [
              "<Figure size 432x288 with 1 Axes>"
            ]
          },
          "metadata": {
            "needs_background": "light"
          },
          "output_type": "display_data"
        }
      ],
      "source": [
        "df_train.groupby(['family']).onpromotion.sum().sort_values(ascending=False).plot(kind='bar')"
      ]
    },
    {
      "cell_type": "code",
      "execution_count": 10,
      "metadata": {
        "colab": {
          "base_uri": "https://localhost:8080/"
        },
        "id": "wsT5Qz8SMBHj",
        "outputId": "b5da91df-56f5-411e-937e-2acde6c3310d"
      },
      "outputs": [
        {
          "data": {
            "text/plain": [
              "AUTOMOTIVE                    90936\n",
              "HOME APPLIANCES               90936\n",
              "SCHOOL AND OFFICE SUPPLIES    90936\n",
              "PRODUCE                       90936\n",
              "PREPARED FOODS                90936\n",
              "POULTRY                       90936\n",
              "PLAYERS AND ELECTRONICS       90936\n",
              "PET SUPPLIES                  90936\n",
              "PERSONAL CARE                 90936\n",
              "MEATS                         90936\n",
              "MAGAZINES                     90936\n",
              "LIQUOR,WINE,BEER              90936\n",
              "LINGERIE                      90936\n",
              "LAWN AND GARDEN               90936\n",
              "LADIESWEAR                    90936\n",
              "HOME CARE                     90936\n",
              "HOME AND KITCHEN II           90936\n",
              "BABY CARE                     90936\n",
              "HOME AND KITCHEN I            90936\n",
              "HARDWARE                      90936\n",
              "GROCERY II                    90936\n",
              "GROCERY I                     90936\n",
              "FROZEN FOODS                  90936\n",
              "EGGS                          90936\n",
              "DELI                          90936\n",
              "DAIRY                         90936\n",
              "CLEANING                      90936\n",
              "CELEBRATION                   90936\n",
              "BREAD/BAKERY                  90936\n",
              "BOOKS                         90936\n",
              "BEVERAGES                     90936\n",
              "BEAUTY                        90936\n",
              "SEAFOOD                       90936\n",
              "Name: family, dtype: int64"
            ]
          },
          "execution_count": 10,
          "metadata": {},
          "output_type": "execute_result"
        }
      ],
      "source": [
        "dfs['train'].family.value_counts()"
      ]
    },
    {
      "cell_type": "markdown",
      "metadata": {
        "id": "iJdLzBm7xNOS"
      },
      "source": [
        "# Feature generation"
      ]
    },
    {
      "cell_type": "code",
      "execution_count": 11,
      "metadata": {
        "colab": {
          "base_uri": "https://localhost:8080/",
          "height": 424
        },
        "id": "Y4E3l6fXYAhq",
        "outputId": "8dd7f600-3791-44ce-8e86-debf80e52b37"
      },
      "outputs": [
        {
          "data": {
            "text/html": [
              "<div>\n",
              "<style scoped>\n",
              "    .dataframe tbody tr th:only-of-type {\n",
              "        vertical-align: middle;\n",
              "    }\n",
              "\n",
              "    .dataframe tbody tr th {\n",
              "        vertical-align: top;\n",
              "    }\n",
              "\n",
              "    .dataframe thead th {\n",
              "        text-align: right;\n",
              "    }\n",
              "</style>\n",
              "<table border=\"1\" class=\"dataframe\">\n",
              "  <thead>\n",
              "    <tr style=\"text-align: right;\">\n",
              "      <th></th>\n",
              "      <th>id</th>\n",
              "      <th>date</th>\n",
              "      <th>store_nbr</th>\n",
              "      <th>family</th>\n",
              "      <th>sales</th>\n",
              "      <th>onpromotion</th>\n",
              "    </tr>\n",
              "  </thead>\n",
              "  <tbody>\n",
              "    <tr>\n",
              "      <th>0</th>\n",
              "      <td>0</td>\n",
              "      <td>2013-01-01</td>\n",
              "      <td>1</td>\n",
              "      <td>AUTOMOTIVE</td>\n",
              "      <td>0.000000</td>\n",
              "      <td>0</td>\n",
              "    </tr>\n",
              "    <tr>\n",
              "      <th>1</th>\n",
              "      <td>1</td>\n",
              "      <td>2013-01-01</td>\n",
              "      <td>1</td>\n",
              "      <td>BABY CARE</td>\n",
              "      <td>0.000000</td>\n",
              "      <td>0</td>\n",
              "    </tr>\n",
              "    <tr>\n",
              "      <th>2</th>\n",
              "      <td>2</td>\n",
              "      <td>2013-01-01</td>\n",
              "      <td>1</td>\n",
              "      <td>BEAUTY</td>\n",
              "      <td>0.000000</td>\n",
              "      <td>0</td>\n",
              "    </tr>\n",
              "    <tr>\n",
              "      <th>3</th>\n",
              "      <td>3</td>\n",
              "      <td>2013-01-01</td>\n",
              "      <td>1</td>\n",
              "      <td>BEVERAGES</td>\n",
              "      <td>0.000000</td>\n",
              "      <td>0</td>\n",
              "    </tr>\n",
              "    <tr>\n",
              "      <th>4</th>\n",
              "      <td>4</td>\n",
              "      <td>2013-01-01</td>\n",
              "      <td>1</td>\n",
              "      <td>BOOKS</td>\n",
              "      <td>0.000000</td>\n",
              "      <td>0</td>\n",
              "    </tr>\n",
              "    <tr>\n",
              "      <th>...</th>\n",
              "      <td>...</td>\n",
              "      <td>...</td>\n",
              "      <td>...</td>\n",
              "      <td>...</td>\n",
              "      <td>...</td>\n",
              "      <td>...</td>\n",
              "    </tr>\n",
              "    <tr>\n",
              "      <th>28507</th>\n",
              "      <td>3029395</td>\n",
              "      <td>2017-08-31</td>\n",
              "      <td>9</td>\n",
              "      <td>POULTRY</td>\n",
              "      <td>NaN</td>\n",
              "      <td>1</td>\n",
              "    </tr>\n",
              "    <tr>\n",
              "      <th>28508</th>\n",
              "      <td>3029396</td>\n",
              "      <td>2017-08-31</td>\n",
              "      <td>9</td>\n",
              "      <td>PREPARED FOODS</td>\n",
              "      <td>NaN</td>\n",
              "      <td>0</td>\n",
              "    </tr>\n",
              "    <tr>\n",
              "      <th>28509</th>\n",
              "      <td>3029397</td>\n",
              "      <td>2017-08-31</td>\n",
              "      <td>9</td>\n",
              "      <td>PRODUCE</td>\n",
              "      <td>NaN</td>\n",
              "      <td>1</td>\n",
              "    </tr>\n",
              "    <tr>\n",
              "      <th>28510</th>\n",
              "      <td>3029398</td>\n",
              "      <td>2017-08-31</td>\n",
              "      <td>9</td>\n",
              "      <td>SCHOOL AND OFFICE SUPPLIES</td>\n",
              "      <td>NaN</td>\n",
              "      <td>9</td>\n",
              "    </tr>\n",
              "    <tr>\n",
              "      <th>28511</th>\n",
              "      <td>3029399</td>\n",
              "      <td>2017-08-31</td>\n",
              "      <td>9</td>\n",
              "      <td>SEAFOOD</td>\n",
              "      <td>NaN</td>\n",
              "      <td>0</td>\n",
              "    </tr>\n",
              "  </tbody>\n",
              "</table>\n",
              "<p>3029400 rows × 6 columns</p>\n",
              "</div>"
            ],
            "text/plain": [
              "            id       date  store_nbr                      family    sales  \\\n",
              "0            0 2013-01-01          1                  AUTOMOTIVE 0.000000   \n",
              "1            1 2013-01-01          1                   BABY CARE 0.000000   \n",
              "2            2 2013-01-01          1                      BEAUTY 0.000000   \n",
              "3            3 2013-01-01          1                   BEVERAGES 0.000000   \n",
              "4            4 2013-01-01          1                       BOOKS 0.000000   \n",
              "...        ...        ...        ...                         ...      ...   \n",
              "28507  3029395 2017-08-31          9                     POULTRY      NaN   \n",
              "28508  3029396 2017-08-31          9              PREPARED FOODS      NaN   \n",
              "28509  3029397 2017-08-31          9                     PRODUCE      NaN   \n",
              "28510  3029398 2017-08-31          9  SCHOOL AND OFFICE SUPPLIES      NaN   \n",
              "28511  3029399 2017-08-31          9                     SEAFOOD      NaN   \n",
              "\n",
              "       onpromotion  \n",
              "0                0  \n",
              "1                0  \n",
              "2                0  \n",
              "3                0  \n",
              "4                0  \n",
              "...            ...  \n",
              "28507            1  \n",
              "28508            0  \n",
              "28509            1  \n",
              "28510            9  \n",
              "28511            0  \n",
              "\n",
              "[3029400 rows x 6 columns]"
            ]
          },
          "execution_count": 11,
          "metadata": {},
          "output_type": "execute_result"
        }
      ],
      "source": [
        "initial_train_size = dfs['train'].count()\n",
        "\n",
        "df_full = pd.concat([dfs['train'], dfs['test']])\n",
        "df_full"
      ]
    },
    {
      "cell_type": "markdown",
      "metadata": {
        "id": "IOp6k3Ae_1m1"
      },
      "source": [
        "## Dates:"
      ]
    },
    {
      "cell_type": "code",
      "execution_count": 12,
      "metadata": {
        "id": "EkbZ6GxIMBSE"
      },
      "outputs": [],
      "source": [
        "df_full['weekday'] = df_full.date.dt.weekday\n",
        "df_full['year'] = df_full.date.dt.year\n",
        "df_full['month'] = df_full.date.dt.month\n",
        "df_full['day_of_year'] = df_full.date.dt.day + (df_full['month'] * 30) #df_full.apply(lambda x : (x.date - datetime.datetime(x.date.year, 1, 1)).days + 1, axis=1)"
      ]
    },
    {
      "cell_type": "code",
      "execution_count": 13,
      "metadata": {
        "id": "YpCk5BTL2GFg"
      },
      "outputs": [],
      "source": [
        "df_full['global_start'] = datetime.datetime(df_full.iloc[0].date.year, 1, 1)\n",
        "df_full['day_from_global_start'] = (df_full.date - df_full.global_start).dt.days\n",
        "df_full = df_full.drop('global_start', axis=1)"
      ]
    },
    {
      "cell_type": "code",
      "execution_count": 14,
      "metadata": {
        "colab": {
          "base_uri": "https://localhost:8080/",
          "height": 424
        },
        "id": "GZQ7FHv8--fF",
        "outputId": "5119e911-d694-4643-c1a7-4d94f23e9801"
      },
      "outputs": [
        {
          "data": {
            "text/html": [
              "<div>\n",
              "<style scoped>\n",
              "    .dataframe tbody tr th:only-of-type {\n",
              "        vertical-align: middle;\n",
              "    }\n",
              "\n",
              "    .dataframe tbody tr th {\n",
              "        vertical-align: top;\n",
              "    }\n",
              "\n",
              "    .dataframe thead th {\n",
              "        text-align: right;\n",
              "    }\n",
              "</style>\n",
              "<table border=\"1\" class=\"dataframe\">\n",
              "  <thead>\n",
              "    <tr style=\"text-align: right;\">\n",
              "      <th></th>\n",
              "      <th>id</th>\n",
              "      <th>date</th>\n",
              "      <th>store_nbr</th>\n",
              "      <th>family</th>\n",
              "      <th>sales</th>\n",
              "      <th>onpromotion</th>\n",
              "      <th>weekday</th>\n",
              "      <th>year</th>\n",
              "      <th>month</th>\n",
              "      <th>day_of_year</th>\n",
              "      <th>day_from_global_start</th>\n",
              "    </tr>\n",
              "  </thead>\n",
              "  <tbody>\n",
              "    <tr>\n",
              "      <th>0</th>\n",
              "      <td>0</td>\n",
              "      <td>2013-01-01</td>\n",
              "      <td>1</td>\n",
              "      <td>AUTOMOTIVE</td>\n",
              "      <td>0.000000</td>\n",
              "      <td>0</td>\n",
              "      <td>1</td>\n",
              "      <td>2013</td>\n",
              "      <td>1</td>\n",
              "      <td>31</td>\n",
              "      <td>0</td>\n",
              "    </tr>\n",
              "    <tr>\n",
              "      <th>1</th>\n",
              "      <td>1</td>\n",
              "      <td>2013-01-01</td>\n",
              "      <td>1</td>\n",
              "      <td>BABY CARE</td>\n",
              "      <td>0.000000</td>\n",
              "      <td>0</td>\n",
              "      <td>1</td>\n",
              "      <td>2013</td>\n",
              "      <td>1</td>\n",
              "      <td>31</td>\n",
              "      <td>0</td>\n",
              "    </tr>\n",
              "    <tr>\n",
              "      <th>2</th>\n",
              "      <td>2</td>\n",
              "      <td>2013-01-01</td>\n",
              "      <td>1</td>\n",
              "      <td>BEAUTY</td>\n",
              "      <td>0.000000</td>\n",
              "      <td>0</td>\n",
              "      <td>1</td>\n",
              "      <td>2013</td>\n",
              "      <td>1</td>\n",
              "      <td>31</td>\n",
              "      <td>0</td>\n",
              "    </tr>\n",
              "    <tr>\n",
              "      <th>3</th>\n",
              "      <td>3</td>\n",
              "      <td>2013-01-01</td>\n",
              "      <td>1</td>\n",
              "      <td>BEVERAGES</td>\n",
              "      <td>0.000000</td>\n",
              "      <td>0</td>\n",
              "      <td>1</td>\n",
              "      <td>2013</td>\n",
              "      <td>1</td>\n",
              "      <td>31</td>\n",
              "      <td>0</td>\n",
              "    </tr>\n",
              "    <tr>\n",
              "      <th>4</th>\n",
              "      <td>4</td>\n",
              "      <td>2013-01-01</td>\n",
              "      <td>1</td>\n",
              "      <td>BOOKS</td>\n",
              "      <td>0.000000</td>\n",
              "      <td>0</td>\n",
              "      <td>1</td>\n",
              "      <td>2013</td>\n",
              "      <td>1</td>\n",
              "      <td>31</td>\n",
              "      <td>0</td>\n",
              "    </tr>\n",
              "    <tr>\n",
              "      <th>...</th>\n",
              "      <td>...</td>\n",
              "      <td>...</td>\n",
              "      <td>...</td>\n",
              "      <td>...</td>\n",
              "      <td>...</td>\n",
              "      <td>...</td>\n",
              "      <td>...</td>\n",
              "      <td>...</td>\n",
              "      <td>...</td>\n",
              "      <td>...</td>\n",
              "      <td>...</td>\n",
              "    </tr>\n",
              "    <tr>\n",
              "      <th>28507</th>\n",
              "      <td>3029395</td>\n",
              "      <td>2017-08-31</td>\n",
              "      <td>9</td>\n",
              "      <td>POULTRY</td>\n",
              "      <td>NaN</td>\n",
              "      <td>1</td>\n",
              "      <td>3</td>\n",
              "      <td>2017</td>\n",
              "      <td>8</td>\n",
              "      <td>271</td>\n",
              "      <td>1703</td>\n",
              "    </tr>\n",
              "    <tr>\n",
              "      <th>28508</th>\n",
              "      <td>3029396</td>\n",
              "      <td>2017-08-31</td>\n",
              "      <td>9</td>\n",
              "      <td>PREPARED FOODS</td>\n",
              "      <td>NaN</td>\n",
              "      <td>0</td>\n",
              "      <td>3</td>\n",
              "      <td>2017</td>\n",
              "      <td>8</td>\n",
              "      <td>271</td>\n",
              "      <td>1703</td>\n",
              "    </tr>\n",
              "    <tr>\n",
              "      <th>28509</th>\n",
              "      <td>3029397</td>\n",
              "      <td>2017-08-31</td>\n",
              "      <td>9</td>\n",
              "      <td>PRODUCE</td>\n",
              "      <td>NaN</td>\n",
              "      <td>1</td>\n",
              "      <td>3</td>\n",
              "      <td>2017</td>\n",
              "      <td>8</td>\n",
              "      <td>271</td>\n",
              "      <td>1703</td>\n",
              "    </tr>\n",
              "    <tr>\n",
              "      <th>28510</th>\n",
              "      <td>3029398</td>\n",
              "      <td>2017-08-31</td>\n",
              "      <td>9</td>\n",
              "      <td>SCHOOL AND OFFICE SUPPLIES</td>\n",
              "      <td>NaN</td>\n",
              "      <td>9</td>\n",
              "      <td>3</td>\n",
              "      <td>2017</td>\n",
              "      <td>8</td>\n",
              "      <td>271</td>\n",
              "      <td>1703</td>\n",
              "    </tr>\n",
              "    <tr>\n",
              "      <th>28511</th>\n",
              "      <td>3029399</td>\n",
              "      <td>2017-08-31</td>\n",
              "      <td>9</td>\n",
              "      <td>SEAFOOD</td>\n",
              "      <td>NaN</td>\n",
              "      <td>0</td>\n",
              "      <td>3</td>\n",
              "      <td>2017</td>\n",
              "      <td>8</td>\n",
              "      <td>271</td>\n",
              "      <td>1703</td>\n",
              "    </tr>\n",
              "  </tbody>\n",
              "</table>\n",
              "<p>3029400 rows × 11 columns</p>\n",
              "</div>"
            ],
            "text/plain": [
              "            id       date  store_nbr                      family    sales  \\\n",
              "0            0 2013-01-01          1                  AUTOMOTIVE 0.000000   \n",
              "1            1 2013-01-01          1                   BABY CARE 0.000000   \n",
              "2            2 2013-01-01          1                      BEAUTY 0.000000   \n",
              "3            3 2013-01-01          1                   BEVERAGES 0.000000   \n",
              "4            4 2013-01-01          1                       BOOKS 0.000000   \n",
              "...        ...        ...        ...                         ...      ...   \n",
              "28507  3029395 2017-08-31          9                     POULTRY      NaN   \n",
              "28508  3029396 2017-08-31          9              PREPARED FOODS      NaN   \n",
              "28509  3029397 2017-08-31          9                     PRODUCE      NaN   \n",
              "28510  3029398 2017-08-31          9  SCHOOL AND OFFICE SUPPLIES      NaN   \n",
              "28511  3029399 2017-08-31          9                     SEAFOOD      NaN   \n",
              "\n",
              "       onpromotion  weekday  year  month  day_of_year  day_from_global_start  \n",
              "0                0        1  2013      1           31                      0  \n",
              "1                0        1  2013      1           31                      0  \n",
              "2                0        1  2013      1           31                      0  \n",
              "3                0        1  2013      1           31                      0  \n",
              "4                0        1  2013      1           31                      0  \n",
              "...            ...      ...   ...    ...          ...                    ...  \n",
              "28507            1        3  2017      8          271                   1703  \n",
              "28508            0        3  2017      8          271                   1703  \n",
              "28509            1        3  2017      8          271                   1703  \n",
              "28510            9        3  2017      8          271                   1703  \n",
              "28511            0        3  2017      8          271                   1703  \n",
              "\n",
              "[3029400 rows x 11 columns]"
            ]
          },
          "execution_count": 14,
          "metadata": {},
          "output_type": "execute_result"
        }
      ],
      "source": [
        "df_full"
      ]
    },
    {
      "cell_type": "markdown",
      "metadata": {
        "id": "wDXRLYE7N9Sn"
      },
      "source": [
        "## Oil features"
      ]
    },
    {
      "cell_type": "code",
      "execution_count": 15,
      "metadata": {
        "id": "zvlKncuIQ8u9"
      },
      "outputs": [],
      "source": [
        "# dfs['oil'] = pd.read_csv('oil.csv', parse_dates=['date'])"
      ]
    },
    {
      "cell_type": "code",
      "execution_count": 16,
      "metadata": {
        "id": "ZlfmewjwOn72"
      },
      "outputs": [],
      "source": [
        "dfs['oil'] = dfs['oil'].fillna(method='bfill')"
      ]
    },
    {
      "cell_type": "code",
      "execution_count": 17,
      "metadata": {
        "id": "w8-qf4fjN_SA"
      },
      "outputs": [],
      "source": [
        "# df_full = df_full.drop('dcoilwtico_y', axis=1)\n",
        "df_full = pd.merge(df_full, dfs['oil'], on='date', how='left')"
      ]
    },
    {
      "cell_type": "code",
      "execution_count": 18,
      "metadata": {
        "colab": {
          "base_uri": "https://localhost:8080/",
          "height": 424
        },
        "id": "9ULtTrzrOYWc",
        "outputId": "ae5c0122-1fff-4061-f7ab-520ecf8226d3"
      },
      "outputs": [
        {
          "data": {
            "text/html": [
              "<div>\n",
              "<style scoped>\n",
              "    .dataframe tbody tr th:only-of-type {\n",
              "        vertical-align: middle;\n",
              "    }\n",
              "\n",
              "    .dataframe tbody tr th {\n",
              "        vertical-align: top;\n",
              "    }\n",
              "\n",
              "    .dataframe thead th {\n",
              "        text-align: right;\n",
              "    }\n",
              "</style>\n",
              "<table border=\"1\" class=\"dataframe\">\n",
              "  <thead>\n",
              "    <tr style=\"text-align: right;\">\n",
              "      <th></th>\n",
              "      <th>id</th>\n",
              "      <th>date</th>\n",
              "      <th>store_nbr</th>\n",
              "      <th>family</th>\n",
              "      <th>sales</th>\n",
              "      <th>onpromotion</th>\n",
              "      <th>weekday</th>\n",
              "      <th>year</th>\n",
              "      <th>month</th>\n",
              "      <th>day_of_year</th>\n",
              "      <th>day_from_global_start</th>\n",
              "      <th>dcoilwtico</th>\n",
              "    </tr>\n",
              "  </thead>\n",
              "  <tbody>\n",
              "    <tr>\n",
              "      <th>0</th>\n",
              "      <td>0</td>\n",
              "      <td>2013-01-01</td>\n",
              "      <td>1</td>\n",
              "      <td>AUTOMOTIVE</td>\n",
              "      <td>0.000000</td>\n",
              "      <td>0</td>\n",
              "      <td>1</td>\n",
              "      <td>2013</td>\n",
              "      <td>1</td>\n",
              "      <td>31</td>\n",
              "      <td>0</td>\n",
              "      <td>93.140000</td>\n",
              "    </tr>\n",
              "    <tr>\n",
              "      <th>1</th>\n",
              "      <td>1</td>\n",
              "      <td>2013-01-01</td>\n",
              "      <td>1</td>\n",
              "      <td>BABY CARE</td>\n",
              "      <td>0.000000</td>\n",
              "      <td>0</td>\n",
              "      <td>1</td>\n",
              "      <td>2013</td>\n",
              "      <td>1</td>\n",
              "      <td>31</td>\n",
              "      <td>0</td>\n",
              "      <td>93.140000</td>\n",
              "    </tr>\n",
              "    <tr>\n",
              "      <th>2</th>\n",
              "      <td>2</td>\n",
              "      <td>2013-01-01</td>\n",
              "      <td>1</td>\n",
              "      <td>BEAUTY</td>\n",
              "      <td>0.000000</td>\n",
              "      <td>0</td>\n",
              "      <td>1</td>\n",
              "      <td>2013</td>\n",
              "      <td>1</td>\n",
              "      <td>31</td>\n",
              "      <td>0</td>\n",
              "      <td>93.140000</td>\n",
              "    </tr>\n",
              "    <tr>\n",
              "      <th>3</th>\n",
              "      <td>3</td>\n",
              "      <td>2013-01-01</td>\n",
              "      <td>1</td>\n",
              "      <td>BEVERAGES</td>\n",
              "      <td>0.000000</td>\n",
              "      <td>0</td>\n",
              "      <td>1</td>\n",
              "      <td>2013</td>\n",
              "      <td>1</td>\n",
              "      <td>31</td>\n",
              "      <td>0</td>\n",
              "      <td>93.140000</td>\n",
              "    </tr>\n",
              "    <tr>\n",
              "      <th>4</th>\n",
              "      <td>4</td>\n",
              "      <td>2013-01-01</td>\n",
              "      <td>1</td>\n",
              "      <td>BOOKS</td>\n",
              "      <td>0.000000</td>\n",
              "      <td>0</td>\n",
              "      <td>1</td>\n",
              "      <td>2013</td>\n",
              "      <td>1</td>\n",
              "      <td>31</td>\n",
              "      <td>0</td>\n",
              "      <td>93.140000</td>\n",
              "    </tr>\n",
              "    <tr>\n",
              "      <th>...</th>\n",
              "      <td>...</td>\n",
              "      <td>...</td>\n",
              "      <td>...</td>\n",
              "      <td>...</td>\n",
              "      <td>...</td>\n",
              "      <td>...</td>\n",
              "      <td>...</td>\n",
              "      <td>...</td>\n",
              "      <td>...</td>\n",
              "      <td>...</td>\n",
              "      <td>...</td>\n",
              "      <td>...</td>\n",
              "    </tr>\n",
              "    <tr>\n",
              "      <th>3029395</th>\n",
              "      <td>3029395</td>\n",
              "      <td>2017-08-31</td>\n",
              "      <td>9</td>\n",
              "      <td>POULTRY</td>\n",
              "      <td>NaN</td>\n",
              "      <td>1</td>\n",
              "      <td>3</td>\n",
              "      <td>2017</td>\n",
              "      <td>8</td>\n",
              "      <td>271</td>\n",
              "      <td>1703</td>\n",
              "      <td>47.260000</td>\n",
              "    </tr>\n",
              "    <tr>\n",
              "      <th>3029396</th>\n",
              "      <td>3029396</td>\n",
              "      <td>2017-08-31</td>\n",
              "      <td>9</td>\n",
              "      <td>PREPARED FOODS</td>\n",
              "      <td>NaN</td>\n",
              "      <td>0</td>\n",
              "      <td>3</td>\n",
              "      <td>2017</td>\n",
              "      <td>8</td>\n",
              "      <td>271</td>\n",
              "      <td>1703</td>\n",
              "      <td>47.260000</td>\n",
              "    </tr>\n",
              "    <tr>\n",
              "      <th>3029397</th>\n",
              "      <td>3029397</td>\n",
              "      <td>2017-08-31</td>\n",
              "      <td>9</td>\n",
              "      <td>PRODUCE</td>\n",
              "      <td>NaN</td>\n",
              "      <td>1</td>\n",
              "      <td>3</td>\n",
              "      <td>2017</td>\n",
              "      <td>8</td>\n",
              "      <td>271</td>\n",
              "      <td>1703</td>\n",
              "      <td>47.260000</td>\n",
              "    </tr>\n",
              "    <tr>\n",
              "      <th>3029398</th>\n",
              "      <td>3029398</td>\n",
              "      <td>2017-08-31</td>\n",
              "      <td>9</td>\n",
              "      <td>SCHOOL AND OFFICE SUPPLIES</td>\n",
              "      <td>NaN</td>\n",
              "      <td>9</td>\n",
              "      <td>3</td>\n",
              "      <td>2017</td>\n",
              "      <td>8</td>\n",
              "      <td>271</td>\n",
              "      <td>1703</td>\n",
              "      <td>47.260000</td>\n",
              "    </tr>\n",
              "    <tr>\n",
              "      <th>3029399</th>\n",
              "      <td>3029399</td>\n",
              "      <td>2017-08-31</td>\n",
              "      <td>9</td>\n",
              "      <td>SEAFOOD</td>\n",
              "      <td>NaN</td>\n",
              "      <td>0</td>\n",
              "      <td>3</td>\n",
              "      <td>2017</td>\n",
              "      <td>8</td>\n",
              "      <td>271</td>\n",
              "      <td>1703</td>\n",
              "      <td>47.260000</td>\n",
              "    </tr>\n",
              "  </tbody>\n",
              "</table>\n",
              "<p>3029400 rows × 12 columns</p>\n",
              "</div>"
            ],
            "text/plain": [
              "              id       date  store_nbr                      family    sales  \\\n",
              "0              0 2013-01-01          1                  AUTOMOTIVE 0.000000   \n",
              "1              1 2013-01-01          1                   BABY CARE 0.000000   \n",
              "2              2 2013-01-01          1                      BEAUTY 0.000000   \n",
              "3              3 2013-01-01          1                   BEVERAGES 0.000000   \n",
              "4              4 2013-01-01          1                       BOOKS 0.000000   \n",
              "...          ...        ...        ...                         ...      ...   \n",
              "3029395  3029395 2017-08-31          9                     POULTRY      NaN   \n",
              "3029396  3029396 2017-08-31          9              PREPARED FOODS      NaN   \n",
              "3029397  3029397 2017-08-31          9                     PRODUCE      NaN   \n",
              "3029398  3029398 2017-08-31          9  SCHOOL AND OFFICE SUPPLIES      NaN   \n",
              "3029399  3029399 2017-08-31          9                     SEAFOOD      NaN   \n",
              "\n",
              "         onpromotion  weekday  year  month  day_of_year  \\\n",
              "0                  0        1  2013      1           31   \n",
              "1                  0        1  2013      1           31   \n",
              "2                  0        1  2013      1           31   \n",
              "3                  0        1  2013      1           31   \n",
              "4                  0        1  2013      1           31   \n",
              "...              ...      ...   ...    ...          ...   \n",
              "3029395            1        3  2017      8          271   \n",
              "3029396            0        3  2017      8          271   \n",
              "3029397            1        3  2017      8          271   \n",
              "3029398            9        3  2017      8          271   \n",
              "3029399            0        3  2017      8          271   \n",
              "\n",
              "         day_from_global_start  dcoilwtico  \n",
              "0                            0   93.140000  \n",
              "1                            0   93.140000  \n",
              "2                            0   93.140000  \n",
              "3                            0   93.140000  \n",
              "4                            0   93.140000  \n",
              "...                        ...         ...  \n",
              "3029395                   1703   47.260000  \n",
              "3029396                   1703   47.260000  \n",
              "3029397                   1703   47.260000  \n",
              "3029398                   1703   47.260000  \n",
              "3029399                   1703   47.260000  \n",
              "\n",
              "[3029400 rows x 12 columns]"
            ]
          },
          "execution_count": 18,
          "metadata": {},
          "output_type": "execute_result"
        }
      ],
      "source": [
        "df_full"
      ]
    },
    {
      "cell_type": "markdown",
      "metadata": {
        "id": "UQsnAiRn_4IZ"
      },
      "source": [
        "## Holidays"
      ]
    },
    {
      "cell_type": "code",
      "execution_count": 19,
      "metadata": {
        "id": "WaAvQN79Dg-P"
      },
      "outputs": [],
      "source": [
        "dfs['holidays_events'] = dfs['holidays_events'].drop_duplicates(subset='date')"
      ]
    },
    {
      "cell_type": "code",
      "execution_count": 20,
      "metadata": {
        "id": "NaicX15DEFpz"
      },
      "outputs": [],
      "source": [
        "df_full = pd.merge(df_full, dfs['holidays_events'][['date', 'type']], on='date', how='left')"
      ]
    },
    {
      "cell_type": "code",
      "execution_count": 21,
      "metadata": {
        "colab": {
          "base_uri": "https://localhost:8080/"
        },
        "id": "mVp9b9PFISQc",
        "outputId": "a3fdf53a-5387-4b7b-db7f-863c18c2230a"
      },
      "outputs": [
        {
          "data": {
            "text/plain": [
              "NaN           2578554\n",
              "Holiday        272646\n",
              "Event           87318\n",
              "Additional      64152\n",
              "Transfer        14256\n",
              "Work Day         7128\n",
              "Bridge           5346\n",
              "Name: type, dtype: int64"
            ]
          },
          "execution_count": 21,
          "metadata": {},
          "output_type": "execute_result"
        }
      ],
      "source": [
        "df_full['type'].value_counts(dropna=False)"
      ]
    },
    {
      "cell_type": "code",
      "execution_count": 22,
      "metadata": {
        "id": "y5MeZOFIH_an"
      },
      "outputs": [],
      "source": [
        "df_full['is_holiday'] = (~df_full['type'].isna()).astype(int)"
      ]
    },
    {
      "cell_type": "code",
      "execution_count": 23,
      "metadata": {
        "colab": {
          "base_uri": "https://localhost:8080/"
        },
        "id": "Stk9R7Y7IIGR",
        "outputId": "bb1e36eb-c830-46f0-de83-9c914bc85e73"
      },
      "outputs": [
        {
          "data": {
            "text/plain": [
              "0    2578554\n",
              "1     450846\n",
              "Name: is_holiday, dtype: int64"
            ]
          },
          "execution_count": 23,
          "metadata": {},
          "output_type": "execute_result"
        }
      ],
      "source": [
        "df_full['is_holiday'].value_counts()"
      ]
    },
    {
      "cell_type": "markdown",
      "metadata": {
        "id": "4wxgNKuJBUja"
      },
      "source": [
        "## Cities and states"
      ]
    },
    {
      "cell_type": "code",
      "execution_count": 24,
      "metadata": {
        "colab": {
          "base_uri": "https://localhost:8080/",
          "height": 206
        },
        "id": "btebQmQTHWFY",
        "outputId": "2ee47fd8-f3ea-49c8-f453-477c04b399e9"
      },
      "outputs": [
        {
          "data": {
            "text/html": [
              "<div>\n",
              "<style scoped>\n",
              "    .dataframe tbody tr th:only-of-type {\n",
              "        vertical-align: middle;\n",
              "    }\n",
              "\n",
              "    .dataframe tbody tr th {\n",
              "        vertical-align: top;\n",
              "    }\n",
              "\n",
              "    .dataframe thead th {\n",
              "        text-align: right;\n",
              "    }\n",
              "</style>\n",
              "<table border=\"1\" class=\"dataframe\">\n",
              "  <thead>\n",
              "    <tr style=\"text-align: right;\">\n",
              "      <th></th>\n",
              "      <th>store_nbr</th>\n",
              "      <th>city</th>\n",
              "      <th>state</th>\n",
              "      <th>type</th>\n",
              "      <th>cluster</th>\n",
              "    </tr>\n",
              "  </thead>\n",
              "  <tbody>\n",
              "    <tr>\n",
              "      <th>0</th>\n",
              "      <td>1</td>\n",
              "      <td>Quito</td>\n",
              "      <td>Pichincha</td>\n",
              "      <td>D</td>\n",
              "      <td>13</td>\n",
              "    </tr>\n",
              "    <tr>\n",
              "      <th>1</th>\n",
              "      <td>2</td>\n",
              "      <td>Quito</td>\n",
              "      <td>Pichincha</td>\n",
              "      <td>D</td>\n",
              "      <td>13</td>\n",
              "    </tr>\n",
              "    <tr>\n",
              "      <th>2</th>\n",
              "      <td>3</td>\n",
              "      <td>Quito</td>\n",
              "      <td>Pichincha</td>\n",
              "      <td>D</td>\n",
              "      <td>8</td>\n",
              "    </tr>\n",
              "    <tr>\n",
              "      <th>3</th>\n",
              "      <td>4</td>\n",
              "      <td>Quito</td>\n",
              "      <td>Pichincha</td>\n",
              "      <td>D</td>\n",
              "      <td>9</td>\n",
              "    </tr>\n",
              "    <tr>\n",
              "      <th>4</th>\n",
              "      <td>5</td>\n",
              "      <td>Santo Domingo</td>\n",
              "      <td>Santo Domingo de los Tsachilas</td>\n",
              "      <td>D</td>\n",
              "      <td>4</td>\n",
              "    </tr>\n",
              "  </tbody>\n",
              "</table>\n",
              "</div>"
            ],
            "text/plain": [
              "   store_nbr           city                           state type  cluster\n",
              "0          1          Quito                       Pichincha    D       13\n",
              "1          2          Quito                       Pichincha    D       13\n",
              "2          3          Quito                       Pichincha    D        8\n",
              "3          4          Quito                       Pichincha    D        9\n",
              "4          5  Santo Domingo  Santo Domingo de los Tsachilas    D        4"
            ]
          },
          "execution_count": 24,
          "metadata": {},
          "output_type": "execute_result"
        }
      ],
      "source": [
        "dfs['stores'].head()"
      ]
    },
    {
      "cell_type": "code",
      "execution_count": 25,
      "metadata": {
        "colab": {
          "base_uri": "https://localhost:8080/"
        },
        "id": "Upy1ubcc_Axl",
        "outputId": "0403e2d2-88b6-496b-8b23-9fe6c9472054"
      },
      "outputs": [
        {
          "data": {
            "text/plain": [
              "3     7\n",
              "6     6\n",
              "10    6\n",
              "15    5\n",
              "13    4\n",
              "14    4\n",
              "11    3\n",
              "4     3\n",
              "8     3\n",
              "1     3\n",
              "9     2\n",
              "7     2\n",
              "2     2\n",
              "12    1\n",
              "5     1\n",
              "16    1\n",
              "17    1\n",
              "Name: cluster, dtype: int64"
            ]
          },
          "execution_count": 25,
          "metadata": {},
          "output_type": "execute_result"
        }
      ],
      "source": [
        "dfs['stores'].cluster.value_counts()"
      ]
    },
    {
      "cell_type": "code",
      "execution_count": 26,
      "metadata": {
        "id": "gtHsTIRFBT4l"
      },
      "outputs": [],
      "source": [
        "df_full = pd.merge(df_full, dfs['stores'][['store_nbr', 'city', 'state', 'cluster']], on='store_nbr', how='left')"
      ]
    },
    {
      "cell_type": "code",
      "execution_count": 27,
      "metadata": {
        "colab": {
          "base_uri": "https://localhost:8080/",
          "height": 641
        },
        "id": "yGziMTq0IvFA",
        "outputId": "10815222-22ab-43e3-bc69-0babc32e0c15"
      },
      "outputs": [
        {
          "data": {
            "text/html": [
              "<div>\n",
              "<style scoped>\n",
              "    .dataframe tbody tr th:only-of-type {\n",
              "        vertical-align: middle;\n",
              "    }\n",
              "\n",
              "    .dataframe tbody tr th {\n",
              "        vertical-align: top;\n",
              "    }\n",
              "\n",
              "    .dataframe thead th {\n",
              "        text-align: right;\n",
              "    }\n",
              "</style>\n",
              "<table border=\"1\" class=\"dataframe\">\n",
              "  <thead>\n",
              "    <tr style=\"text-align: right;\">\n",
              "      <th></th>\n",
              "      <th>id</th>\n",
              "      <th>date</th>\n",
              "      <th>store_nbr</th>\n",
              "      <th>family</th>\n",
              "      <th>sales</th>\n",
              "      <th>onpromotion</th>\n",
              "      <th>weekday</th>\n",
              "      <th>year</th>\n",
              "      <th>month</th>\n",
              "      <th>day_of_year</th>\n",
              "      <th>day_from_global_start</th>\n",
              "      <th>dcoilwtico</th>\n",
              "      <th>type</th>\n",
              "      <th>is_holiday</th>\n",
              "      <th>city</th>\n",
              "      <th>state</th>\n",
              "      <th>cluster</th>\n",
              "    </tr>\n",
              "  </thead>\n",
              "  <tbody>\n",
              "    <tr>\n",
              "      <th>0</th>\n",
              "      <td>0</td>\n",
              "      <td>2013-01-01</td>\n",
              "      <td>1</td>\n",
              "      <td>AUTOMOTIVE</td>\n",
              "      <td>0.000000</td>\n",
              "      <td>0</td>\n",
              "      <td>1</td>\n",
              "      <td>2013</td>\n",
              "      <td>1</td>\n",
              "      <td>31</td>\n",
              "      <td>0</td>\n",
              "      <td>93.140000</td>\n",
              "      <td>Holiday</td>\n",
              "      <td>1</td>\n",
              "      <td>Quito</td>\n",
              "      <td>Pichincha</td>\n",
              "      <td>13</td>\n",
              "    </tr>\n",
              "    <tr>\n",
              "      <th>1</th>\n",
              "      <td>1</td>\n",
              "      <td>2013-01-01</td>\n",
              "      <td>1</td>\n",
              "      <td>BABY CARE</td>\n",
              "      <td>0.000000</td>\n",
              "      <td>0</td>\n",
              "      <td>1</td>\n",
              "      <td>2013</td>\n",
              "      <td>1</td>\n",
              "      <td>31</td>\n",
              "      <td>0</td>\n",
              "      <td>93.140000</td>\n",
              "      <td>Holiday</td>\n",
              "      <td>1</td>\n",
              "      <td>Quito</td>\n",
              "      <td>Pichincha</td>\n",
              "      <td>13</td>\n",
              "    </tr>\n",
              "    <tr>\n",
              "      <th>2</th>\n",
              "      <td>2</td>\n",
              "      <td>2013-01-01</td>\n",
              "      <td>1</td>\n",
              "      <td>BEAUTY</td>\n",
              "      <td>0.000000</td>\n",
              "      <td>0</td>\n",
              "      <td>1</td>\n",
              "      <td>2013</td>\n",
              "      <td>1</td>\n",
              "      <td>31</td>\n",
              "      <td>0</td>\n",
              "      <td>93.140000</td>\n",
              "      <td>Holiday</td>\n",
              "      <td>1</td>\n",
              "      <td>Quito</td>\n",
              "      <td>Pichincha</td>\n",
              "      <td>13</td>\n",
              "    </tr>\n",
              "    <tr>\n",
              "      <th>3</th>\n",
              "      <td>3</td>\n",
              "      <td>2013-01-01</td>\n",
              "      <td>1</td>\n",
              "      <td>BEVERAGES</td>\n",
              "      <td>0.000000</td>\n",
              "      <td>0</td>\n",
              "      <td>1</td>\n",
              "      <td>2013</td>\n",
              "      <td>1</td>\n",
              "      <td>31</td>\n",
              "      <td>0</td>\n",
              "      <td>93.140000</td>\n",
              "      <td>Holiday</td>\n",
              "      <td>1</td>\n",
              "      <td>Quito</td>\n",
              "      <td>Pichincha</td>\n",
              "      <td>13</td>\n",
              "    </tr>\n",
              "    <tr>\n",
              "      <th>4</th>\n",
              "      <td>4</td>\n",
              "      <td>2013-01-01</td>\n",
              "      <td>1</td>\n",
              "      <td>BOOKS</td>\n",
              "      <td>0.000000</td>\n",
              "      <td>0</td>\n",
              "      <td>1</td>\n",
              "      <td>2013</td>\n",
              "      <td>1</td>\n",
              "      <td>31</td>\n",
              "      <td>0</td>\n",
              "      <td>93.140000</td>\n",
              "      <td>Holiday</td>\n",
              "      <td>1</td>\n",
              "      <td>Quito</td>\n",
              "      <td>Pichincha</td>\n",
              "      <td>13</td>\n",
              "    </tr>\n",
              "    <tr>\n",
              "      <th>...</th>\n",
              "      <td>...</td>\n",
              "      <td>...</td>\n",
              "      <td>...</td>\n",
              "      <td>...</td>\n",
              "      <td>...</td>\n",
              "      <td>...</td>\n",
              "      <td>...</td>\n",
              "      <td>...</td>\n",
              "      <td>...</td>\n",
              "      <td>...</td>\n",
              "      <td>...</td>\n",
              "      <td>...</td>\n",
              "      <td>...</td>\n",
              "      <td>...</td>\n",
              "      <td>...</td>\n",
              "      <td>...</td>\n",
              "      <td>...</td>\n",
              "    </tr>\n",
              "    <tr>\n",
              "      <th>3029395</th>\n",
              "      <td>3029395</td>\n",
              "      <td>2017-08-31</td>\n",
              "      <td>9</td>\n",
              "      <td>POULTRY</td>\n",
              "      <td>NaN</td>\n",
              "      <td>1</td>\n",
              "      <td>3</td>\n",
              "      <td>2017</td>\n",
              "      <td>8</td>\n",
              "      <td>271</td>\n",
              "      <td>1703</td>\n",
              "      <td>47.260000</td>\n",
              "      <td>NaN</td>\n",
              "      <td>0</td>\n",
              "      <td>Quito</td>\n",
              "      <td>Pichincha</td>\n",
              "      <td>6</td>\n",
              "    </tr>\n",
              "    <tr>\n",
              "      <th>3029396</th>\n",
              "      <td>3029396</td>\n",
              "      <td>2017-08-31</td>\n",
              "      <td>9</td>\n",
              "      <td>PREPARED FOODS</td>\n",
              "      <td>NaN</td>\n",
              "      <td>0</td>\n",
              "      <td>3</td>\n",
              "      <td>2017</td>\n",
              "      <td>8</td>\n",
              "      <td>271</td>\n",
              "      <td>1703</td>\n",
              "      <td>47.260000</td>\n",
              "      <td>NaN</td>\n",
              "      <td>0</td>\n",
              "      <td>Quito</td>\n",
              "      <td>Pichincha</td>\n",
              "      <td>6</td>\n",
              "    </tr>\n",
              "    <tr>\n",
              "      <th>3029397</th>\n",
              "      <td>3029397</td>\n",
              "      <td>2017-08-31</td>\n",
              "      <td>9</td>\n",
              "      <td>PRODUCE</td>\n",
              "      <td>NaN</td>\n",
              "      <td>1</td>\n",
              "      <td>3</td>\n",
              "      <td>2017</td>\n",
              "      <td>8</td>\n",
              "      <td>271</td>\n",
              "      <td>1703</td>\n",
              "      <td>47.260000</td>\n",
              "      <td>NaN</td>\n",
              "      <td>0</td>\n",
              "      <td>Quito</td>\n",
              "      <td>Pichincha</td>\n",
              "      <td>6</td>\n",
              "    </tr>\n",
              "    <tr>\n",
              "      <th>3029398</th>\n",
              "      <td>3029398</td>\n",
              "      <td>2017-08-31</td>\n",
              "      <td>9</td>\n",
              "      <td>SCHOOL AND OFFICE SUPPLIES</td>\n",
              "      <td>NaN</td>\n",
              "      <td>9</td>\n",
              "      <td>3</td>\n",
              "      <td>2017</td>\n",
              "      <td>8</td>\n",
              "      <td>271</td>\n",
              "      <td>1703</td>\n",
              "      <td>47.260000</td>\n",
              "      <td>NaN</td>\n",
              "      <td>0</td>\n",
              "      <td>Quito</td>\n",
              "      <td>Pichincha</td>\n",
              "      <td>6</td>\n",
              "    </tr>\n",
              "    <tr>\n",
              "      <th>3029399</th>\n",
              "      <td>3029399</td>\n",
              "      <td>2017-08-31</td>\n",
              "      <td>9</td>\n",
              "      <td>SEAFOOD</td>\n",
              "      <td>NaN</td>\n",
              "      <td>0</td>\n",
              "      <td>3</td>\n",
              "      <td>2017</td>\n",
              "      <td>8</td>\n",
              "      <td>271</td>\n",
              "      <td>1703</td>\n",
              "      <td>47.260000</td>\n",
              "      <td>NaN</td>\n",
              "      <td>0</td>\n",
              "      <td>Quito</td>\n",
              "      <td>Pichincha</td>\n",
              "      <td>6</td>\n",
              "    </tr>\n",
              "  </tbody>\n",
              "</table>\n",
              "<p>3029400 rows × 17 columns</p>\n",
              "</div>"
            ],
            "text/plain": [
              "              id       date  store_nbr                      family    sales  \\\n",
              "0              0 2013-01-01          1                  AUTOMOTIVE 0.000000   \n",
              "1              1 2013-01-01          1                   BABY CARE 0.000000   \n",
              "2              2 2013-01-01          1                      BEAUTY 0.000000   \n",
              "3              3 2013-01-01          1                   BEVERAGES 0.000000   \n",
              "4              4 2013-01-01          1                       BOOKS 0.000000   \n",
              "...          ...        ...        ...                         ...      ...   \n",
              "3029395  3029395 2017-08-31          9                     POULTRY      NaN   \n",
              "3029396  3029396 2017-08-31          9              PREPARED FOODS      NaN   \n",
              "3029397  3029397 2017-08-31          9                     PRODUCE      NaN   \n",
              "3029398  3029398 2017-08-31          9  SCHOOL AND OFFICE SUPPLIES      NaN   \n",
              "3029399  3029399 2017-08-31          9                     SEAFOOD      NaN   \n",
              "\n",
              "         onpromotion  weekday  year  month  day_of_year  \\\n",
              "0                  0        1  2013      1           31   \n",
              "1                  0        1  2013      1           31   \n",
              "2                  0        1  2013      1           31   \n",
              "3                  0        1  2013      1           31   \n",
              "4                  0        1  2013      1           31   \n",
              "...              ...      ...   ...    ...          ...   \n",
              "3029395            1        3  2017      8          271   \n",
              "3029396            0        3  2017      8          271   \n",
              "3029397            1        3  2017      8          271   \n",
              "3029398            9        3  2017      8          271   \n",
              "3029399            0        3  2017      8          271   \n",
              "\n",
              "         day_from_global_start  dcoilwtico     type  is_holiday   city  \\\n",
              "0                            0   93.140000  Holiday           1  Quito   \n",
              "1                            0   93.140000  Holiday           1  Quito   \n",
              "2                            0   93.140000  Holiday           1  Quito   \n",
              "3                            0   93.140000  Holiday           1  Quito   \n",
              "4                            0   93.140000  Holiday           1  Quito   \n",
              "...                        ...         ...      ...         ...    ...   \n",
              "3029395                   1703   47.260000      NaN           0  Quito   \n",
              "3029396                   1703   47.260000      NaN           0  Quito   \n",
              "3029397                   1703   47.260000      NaN           0  Quito   \n",
              "3029398                   1703   47.260000      NaN           0  Quito   \n",
              "3029399                   1703   47.260000      NaN           0  Quito   \n",
              "\n",
              "             state  cluster  \n",
              "0        Pichincha       13  \n",
              "1        Pichincha       13  \n",
              "2        Pichincha       13  \n",
              "3        Pichincha       13  \n",
              "4        Pichincha       13  \n",
              "...            ...      ...  \n",
              "3029395  Pichincha        6  \n",
              "3029396  Pichincha        6  \n",
              "3029397  Pichincha        6  \n",
              "3029398  Pichincha        6  \n",
              "3029399  Pichincha        6  \n",
              "\n",
              "[3029400 rows x 17 columns]"
            ]
          },
          "execution_count": 27,
          "metadata": {},
          "output_type": "execute_result"
        }
      ],
      "source": [
        "df_full"
      ]
    },
    {
      "cell_type": "code",
      "execution_count": 28,
      "metadata": {
        "id": "-d9uxcUoHcDW"
      },
      "outputs": [],
      "source": [
        "df_full['city_Quito'] = (df_full['city'] == 'Quito').astype(int)\n",
        "df_full['city_Guayaquil'] = (df_full['city'] == 'Guayaquil').astype(int)\n",
        "df_full['city_other'] = ((df_full['city'] != 'Quito') & (df_full['city'] == 'Guayaquil')).astype(int)"
      ]
    },
    {
      "cell_type": "code",
      "execution_count": 29,
      "metadata": {
        "id": "9KM5qKMqJjdV"
      },
      "outputs": [],
      "source": [
        "df_full['state_Pichincha'] = (df_full['state'] == 'Pichincha').astype(int)\n",
        "df_full['state_Guayas'] = (df_full['state'] == 'Guayas').astype(int)\n",
        "df_full['state_other'] = ((df_full['state'] != 'Quito') & (df_full['state'] == 'Guayaquil')).astype(int)"
      ]
    },
    {
      "cell_type": "code",
      "execution_count": 30,
      "metadata": {
        "id": "94u81AiPK55g"
      },
      "outputs": [],
      "source": [
        "# df_full['cluster_Pichincha'] = (df_full['state'] == 'Pichincha').astype(int)\n",
        "# df_full['cluster_Guayas'] = (df_full['state'] == 'Guayas').astype(int)\n",
        "# df_full['cluster_other'] = ((df_full['state'] != 'Quito') & (df_full['state'] == 'Guayaquil')).astype(int)"
      ]
    },
    {
      "cell_type": "code",
      "execution_count": 31,
      "metadata": {
        "colab": {
          "base_uri": "https://localhost:8080/",
          "height": 679
        },
        "id": "Js-QtdU1HcGr",
        "outputId": "61e05d18-f793-49ac-8fb3-08b96b69d675"
      },
      "outputs": [
        {
          "data": {
            "text/html": [
              "<div>\n",
              "<style scoped>\n",
              "    .dataframe tbody tr th:only-of-type {\n",
              "        vertical-align: middle;\n",
              "    }\n",
              "\n",
              "    .dataframe tbody tr th {\n",
              "        vertical-align: top;\n",
              "    }\n",
              "\n",
              "    .dataframe thead th {\n",
              "        text-align: right;\n",
              "    }\n",
              "</style>\n",
              "<table border=\"1\" class=\"dataframe\">\n",
              "  <thead>\n",
              "    <tr style=\"text-align: right;\">\n",
              "      <th></th>\n",
              "      <th>id</th>\n",
              "      <th>date</th>\n",
              "      <th>store_nbr</th>\n",
              "      <th>family</th>\n",
              "      <th>sales</th>\n",
              "      <th>onpromotion</th>\n",
              "      <th>weekday</th>\n",
              "      <th>year</th>\n",
              "      <th>month</th>\n",
              "      <th>day_of_year</th>\n",
              "      <th>...</th>\n",
              "      <th>is_holiday</th>\n",
              "      <th>city</th>\n",
              "      <th>state</th>\n",
              "      <th>cluster</th>\n",
              "      <th>city_Quito</th>\n",
              "      <th>city_Guayaquil</th>\n",
              "      <th>city_other</th>\n",
              "      <th>state_Pichincha</th>\n",
              "      <th>state_Guayas</th>\n",
              "      <th>state_other</th>\n",
              "    </tr>\n",
              "  </thead>\n",
              "  <tbody>\n",
              "    <tr>\n",
              "      <th>0</th>\n",
              "      <td>0</td>\n",
              "      <td>2013-01-01</td>\n",
              "      <td>1</td>\n",
              "      <td>AUTOMOTIVE</td>\n",
              "      <td>0.000000</td>\n",
              "      <td>0</td>\n",
              "      <td>1</td>\n",
              "      <td>2013</td>\n",
              "      <td>1</td>\n",
              "      <td>31</td>\n",
              "      <td>...</td>\n",
              "      <td>1</td>\n",
              "      <td>Quito</td>\n",
              "      <td>Pichincha</td>\n",
              "      <td>13</td>\n",
              "      <td>1</td>\n",
              "      <td>0</td>\n",
              "      <td>0</td>\n",
              "      <td>1</td>\n",
              "      <td>0</td>\n",
              "      <td>0</td>\n",
              "    </tr>\n",
              "    <tr>\n",
              "      <th>1</th>\n",
              "      <td>1</td>\n",
              "      <td>2013-01-01</td>\n",
              "      <td>1</td>\n",
              "      <td>BABY CARE</td>\n",
              "      <td>0.000000</td>\n",
              "      <td>0</td>\n",
              "      <td>1</td>\n",
              "      <td>2013</td>\n",
              "      <td>1</td>\n",
              "      <td>31</td>\n",
              "      <td>...</td>\n",
              "      <td>1</td>\n",
              "      <td>Quito</td>\n",
              "      <td>Pichincha</td>\n",
              "      <td>13</td>\n",
              "      <td>1</td>\n",
              "      <td>0</td>\n",
              "      <td>0</td>\n",
              "      <td>1</td>\n",
              "      <td>0</td>\n",
              "      <td>0</td>\n",
              "    </tr>\n",
              "    <tr>\n",
              "      <th>2</th>\n",
              "      <td>2</td>\n",
              "      <td>2013-01-01</td>\n",
              "      <td>1</td>\n",
              "      <td>BEAUTY</td>\n",
              "      <td>0.000000</td>\n",
              "      <td>0</td>\n",
              "      <td>1</td>\n",
              "      <td>2013</td>\n",
              "      <td>1</td>\n",
              "      <td>31</td>\n",
              "      <td>...</td>\n",
              "      <td>1</td>\n",
              "      <td>Quito</td>\n",
              "      <td>Pichincha</td>\n",
              "      <td>13</td>\n",
              "      <td>1</td>\n",
              "      <td>0</td>\n",
              "      <td>0</td>\n",
              "      <td>1</td>\n",
              "      <td>0</td>\n",
              "      <td>0</td>\n",
              "    </tr>\n",
              "    <tr>\n",
              "      <th>3</th>\n",
              "      <td>3</td>\n",
              "      <td>2013-01-01</td>\n",
              "      <td>1</td>\n",
              "      <td>BEVERAGES</td>\n",
              "      <td>0.000000</td>\n",
              "      <td>0</td>\n",
              "      <td>1</td>\n",
              "      <td>2013</td>\n",
              "      <td>1</td>\n",
              "      <td>31</td>\n",
              "      <td>...</td>\n",
              "      <td>1</td>\n",
              "      <td>Quito</td>\n",
              "      <td>Pichincha</td>\n",
              "      <td>13</td>\n",
              "      <td>1</td>\n",
              "      <td>0</td>\n",
              "      <td>0</td>\n",
              "      <td>1</td>\n",
              "      <td>0</td>\n",
              "      <td>0</td>\n",
              "    </tr>\n",
              "    <tr>\n",
              "      <th>4</th>\n",
              "      <td>4</td>\n",
              "      <td>2013-01-01</td>\n",
              "      <td>1</td>\n",
              "      <td>BOOKS</td>\n",
              "      <td>0.000000</td>\n",
              "      <td>0</td>\n",
              "      <td>1</td>\n",
              "      <td>2013</td>\n",
              "      <td>1</td>\n",
              "      <td>31</td>\n",
              "      <td>...</td>\n",
              "      <td>1</td>\n",
              "      <td>Quito</td>\n",
              "      <td>Pichincha</td>\n",
              "      <td>13</td>\n",
              "      <td>1</td>\n",
              "      <td>0</td>\n",
              "      <td>0</td>\n",
              "      <td>1</td>\n",
              "      <td>0</td>\n",
              "      <td>0</td>\n",
              "    </tr>\n",
              "    <tr>\n",
              "      <th>...</th>\n",
              "      <td>...</td>\n",
              "      <td>...</td>\n",
              "      <td>...</td>\n",
              "      <td>...</td>\n",
              "      <td>...</td>\n",
              "      <td>...</td>\n",
              "      <td>...</td>\n",
              "      <td>...</td>\n",
              "      <td>...</td>\n",
              "      <td>...</td>\n",
              "      <td>...</td>\n",
              "      <td>...</td>\n",
              "      <td>...</td>\n",
              "      <td>...</td>\n",
              "      <td>...</td>\n",
              "      <td>...</td>\n",
              "      <td>...</td>\n",
              "      <td>...</td>\n",
              "      <td>...</td>\n",
              "      <td>...</td>\n",
              "      <td>...</td>\n",
              "    </tr>\n",
              "    <tr>\n",
              "      <th>3029395</th>\n",
              "      <td>3029395</td>\n",
              "      <td>2017-08-31</td>\n",
              "      <td>9</td>\n",
              "      <td>POULTRY</td>\n",
              "      <td>NaN</td>\n",
              "      <td>1</td>\n",
              "      <td>3</td>\n",
              "      <td>2017</td>\n",
              "      <td>8</td>\n",
              "      <td>271</td>\n",
              "      <td>...</td>\n",
              "      <td>0</td>\n",
              "      <td>Quito</td>\n",
              "      <td>Pichincha</td>\n",
              "      <td>6</td>\n",
              "      <td>1</td>\n",
              "      <td>0</td>\n",
              "      <td>0</td>\n",
              "      <td>1</td>\n",
              "      <td>0</td>\n",
              "      <td>0</td>\n",
              "    </tr>\n",
              "    <tr>\n",
              "      <th>3029396</th>\n",
              "      <td>3029396</td>\n",
              "      <td>2017-08-31</td>\n",
              "      <td>9</td>\n",
              "      <td>PREPARED FOODS</td>\n",
              "      <td>NaN</td>\n",
              "      <td>0</td>\n",
              "      <td>3</td>\n",
              "      <td>2017</td>\n",
              "      <td>8</td>\n",
              "      <td>271</td>\n",
              "      <td>...</td>\n",
              "      <td>0</td>\n",
              "      <td>Quito</td>\n",
              "      <td>Pichincha</td>\n",
              "      <td>6</td>\n",
              "      <td>1</td>\n",
              "      <td>0</td>\n",
              "      <td>0</td>\n",
              "      <td>1</td>\n",
              "      <td>0</td>\n",
              "      <td>0</td>\n",
              "    </tr>\n",
              "    <tr>\n",
              "      <th>3029397</th>\n",
              "      <td>3029397</td>\n",
              "      <td>2017-08-31</td>\n",
              "      <td>9</td>\n",
              "      <td>PRODUCE</td>\n",
              "      <td>NaN</td>\n",
              "      <td>1</td>\n",
              "      <td>3</td>\n",
              "      <td>2017</td>\n",
              "      <td>8</td>\n",
              "      <td>271</td>\n",
              "      <td>...</td>\n",
              "      <td>0</td>\n",
              "      <td>Quito</td>\n",
              "      <td>Pichincha</td>\n",
              "      <td>6</td>\n",
              "      <td>1</td>\n",
              "      <td>0</td>\n",
              "      <td>0</td>\n",
              "      <td>1</td>\n",
              "      <td>0</td>\n",
              "      <td>0</td>\n",
              "    </tr>\n",
              "    <tr>\n",
              "      <th>3029398</th>\n",
              "      <td>3029398</td>\n",
              "      <td>2017-08-31</td>\n",
              "      <td>9</td>\n",
              "      <td>SCHOOL AND OFFICE SUPPLIES</td>\n",
              "      <td>NaN</td>\n",
              "      <td>9</td>\n",
              "      <td>3</td>\n",
              "      <td>2017</td>\n",
              "      <td>8</td>\n",
              "      <td>271</td>\n",
              "      <td>...</td>\n",
              "      <td>0</td>\n",
              "      <td>Quito</td>\n",
              "      <td>Pichincha</td>\n",
              "      <td>6</td>\n",
              "      <td>1</td>\n",
              "      <td>0</td>\n",
              "      <td>0</td>\n",
              "      <td>1</td>\n",
              "      <td>0</td>\n",
              "      <td>0</td>\n",
              "    </tr>\n",
              "    <tr>\n",
              "      <th>3029399</th>\n",
              "      <td>3029399</td>\n",
              "      <td>2017-08-31</td>\n",
              "      <td>9</td>\n",
              "      <td>SEAFOOD</td>\n",
              "      <td>NaN</td>\n",
              "      <td>0</td>\n",
              "      <td>3</td>\n",
              "      <td>2017</td>\n",
              "      <td>8</td>\n",
              "      <td>271</td>\n",
              "      <td>...</td>\n",
              "      <td>0</td>\n",
              "      <td>Quito</td>\n",
              "      <td>Pichincha</td>\n",
              "      <td>6</td>\n",
              "      <td>1</td>\n",
              "      <td>0</td>\n",
              "      <td>0</td>\n",
              "      <td>1</td>\n",
              "      <td>0</td>\n",
              "      <td>0</td>\n",
              "    </tr>\n",
              "  </tbody>\n",
              "</table>\n",
              "<p>3029400 rows × 23 columns</p>\n",
              "</div>"
            ],
            "text/plain": [
              "              id       date  store_nbr                      family    sales  \\\n",
              "0              0 2013-01-01          1                  AUTOMOTIVE 0.000000   \n",
              "1              1 2013-01-01          1                   BABY CARE 0.000000   \n",
              "2              2 2013-01-01          1                      BEAUTY 0.000000   \n",
              "3              3 2013-01-01          1                   BEVERAGES 0.000000   \n",
              "4              4 2013-01-01          1                       BOOKS 0.000000   \n",
              "...          ...        ...        ...                         ...      ...   \n",
              "3029395  3029395 2017-08-31          9                     POULTRY      NaN   \n",
              "3029396  3029396 2017-08-31          9              PREPARED FOODS      NaN   \n",
              "3029397  3029397 2017-08-31          9                     PRODUCE      NaN   \n",
              "3029398  3029398 2017-08-31          9  SCHOOL AND OFFICE SUPPLIES      NaN   \n",
              "3029399  3029399 2017-08-31          9                     SEAFOOD      NaN   \n",
              "\n",
              "         onpromotion  weekday  year  month  day_of_year  ...  is_holiday  \\\n",
              "0                  0        1  2013      1           31  ...           1   \n",
              "1                  0        1  2013      1           31  ...           1   \n",
              "2                  0        1  2013      1           31  ...           1   \n",
              "3                  0        1  2013      1           31  ...           1   \n",
              "4                  0        1  2013      1           31  ...           1   \n",
              "...              ...      ...   ...    ...          ...  ...         ...   \n",
              "3029395            1        3  2017      8          271  ...           0   \n",
              "3029396            0        3  2017      8          271  ...           0   \n",
              "3029397            1        3  2017      8          271  ...           0   \n",
              "3029398            9        3  2017      8          271  ...           0   \n",
              "3029399            0        3  2017      8          271  ...           0   \n",
              "\n",
              "          city      state  cluster city_Quito city_Guayaquil  city_other  \\\n",
              "0        Quito  Pichincha       13          1              0           0   \n",
              "1        Quito  Pichincha       13          1              0           0   \n",
              "2        Quito  Pichincha       13          1              0           0   \n",
              "3        Quito  Pichincha       13          1              0           0   \n",
              "4        Quito  Pichincha       13          1              0           0   \n",
              "...        ...        ...      ...        ...            ...         ...   \n",
              "3029395  Quito  Pichincha        6          1              0           0   \n",
              "3029396  Quito  Pichincha        6          1              0           0   \n",
              "3029397  Quito  Pichincha        6          1              0           0   \n",
              "3029398  Quito  Pichincha        6          1              0           0   \n",
              "3029399  Quito  Pichincha        6          1              0           0   \n",
              "\n",
              "         state_Pichincha  state_Guayas  state_other  \n",
              "0                      1             0            0  \n",
              "1                      1             0            0  \n",
              "2                      1             0            0  \n",
              "3                      1             0            0  \n",
              "4                      1             0            0  \n",
              "...                  ...           ...          ...  \n",
              "3029395                1             0            0  \n",
              "3029396                1             0            0  \n",
              "3029397                1             0            0  \n",
              "3029398                1             0            0  \n",
              "3029399                1             0            0  \n",
              "\n",
              "[3029400 rows x 23 columns]"
            ]
          },
          "execution_count": 31,
          "metadata": {},
          "output_type": "execute_result"
        }
      ],
      "source": [
        "df_full"
      ]
    },
    {
      "cell_type": "markdown",
      "metadata": {
        "id": "vIQ_zWHXKPf0"
      },
      "source": [
        "## Family dummies"
      ]
    },
    {
      "cell_type": "code",
      "execution_count": 32,
      "metadata": {
        "id": "T5Rk4ypTJw3r"
      },
      "outputs": [],
      "source": [
        "df_full = pd.get_dummies(df_full, columns=['family'], drop_first=True)"
      ]
    },
    {
      "cell_type": "markdown",
      "metadata": {
        "id": "t_0q3LR0JzSb"
      },
      "source": [
        "# Create train/evaluation datasets"
      ]
    },
    {
      "cell_type": "code",
      "execution_count": 33,
      "metadata": {
        "colab": {
          "base_uri": "https://localhost:8080/"
        },
        "id": "PChL-vNXJ7CF",
        "outputId": "c99aaab6-833c-4e41-a7f8-8b2b968bc5ac"
      },
      "outputs": [
        {
          "data": {
            "text/plain": [
              "Index(['id', 'date', 'store_nbr', 'sales', 'onpromotion', 'weekday', 'year',\n",
              "       'month', 'day_of_year', 'day_from_global_start', 'dcoilwtico', 'type',\n",
              "       'is_holiday', 'city', 'state', 'cluster', 'city_Quito',\n",
              "       'city_Guayaquil', 'city_other', 'state_Pichincha', 'state_Guayas',\n",
              "       'state_other', 'family_BABY CARE', 'family_BEAUTY', 'family_BEVERAGES',\n",
              "       'family_BOOKS', 'family_BREAD/BAKERY', 'family_CELEBRATION',\n",
              "       'family_CLEANING', 'family_DAIRY', 'family_DELI', 'family_EGGS',\n",
              "       'family_FROZEN FOODS', 'family_GROCERY I', 'family_GROCERY II',\n",
              "       'family_HARDWARE', 'family_HOME AND KITCHEN I',\n",
              "       'family_HOME AND KITCHEN II', 'family_HOME APPLIANCES',\n",
              "       'family_HOME CARE', 'family_LADIESWEAR', 'family_LAWN AND GARDEN',\n",
              "       'family_LINGERIE', 'family_LIQUOR,WINE,BEER', 'family_MAGAZINES',\n",
              "       'family_MEATS', 'family_PERSONAL CARE', 'family_PET SUPPLIES',\n",
              "       'family_PLAYERS AND ELECTRONICS', 'family_POULTRY',\n",
              "       'family_PREPARED FOODS', 'family_PRODUCE',\n",
              "       'family_SCHOOL AND OFFICE SUPPLIES', 'family_SEAFOOD'],\n",
              "      dtype='object')"
            ]
          },
          "execution_count": 33,
          "metadata": {},
          "output_type": "execute_result"
        }
      ],
      "source": [
        "df_full.columns"
      ]
    },
    {
      "cell_type": "code",
      "execution_count": 34,
      "metadata": {
        "id": "NamPMq38aGE5"
      },
      "outputs": [],
      "source": [
        "# [1, 2, 3, 4, 5][3:]"
      ]
    },
    {
      "cell_type": "code",
      "execution_count": 35,
      "metadata": {
        "id": "VUb0w8ndZMj-"
      },
      "outputs": [],
      "source": [
        "df_test = df_full[len(df_train):]\n",
        "df_train = df_full[:len(df_train)]"
      ]
    },
    {
      "cell_type": "code",
      "execution_count": 36,
      "metadata": {
        "id": "YHxbfCgvJ-4l"
      },
      "outputs": [],
      "source": [
        "columns = ['onpromotion', 'weekday', 'year', 'day_of_year', 'day_from_global_start', 'is_holiday', ] \\\n",
        "             + [x for x in df_full.columns if x.startswith('family_')] \\\n",
        "             + [x for x in df_full.columns if x.startswith('city_')]"
      ]
    },
    {
      "cell_type": "code",
      "execution_count": 37,
      "metadata": {
        "id": "vP10KnwmSs4O"
      },
      "outputs": [],
      "source": [
        "# X_train, X_eval, y_train, y_eval = train_test_split(df_train[columns],\n",
        "#                                                     df_train.sales,\n",
        "#                                                     train_size=0.8, random_state=42, shuffle=False)\n",
        "X_train = df_train[columns]\n",
        "y_train = df_train.sales"
      ]
    },
    {
      "cell_type": "code",
      "execution_count": 38,
      "metadata": {
        "id": "ELZJmn3JRoz4"
      },
      "outputs": [],
      "source": [
        "from xgboost import XGBRegressor"
      ]
    },
    {
      "cell_type": "code",
      "execution_count": 39,
      "metadata": {
        "colab": {
          "base_uri": "https://localhost:8080/"
        },
        "id": "Evz_0eTEjuKF",
        "outputId": "56940f9c-7553-41c7-9839-b734dcf22820"
      },
      "outputs": [
        {
          "name": "stdout",
          "output_type": "stream",
          "text": [
            "Fitting 5 folds for each of 1 candidates, totalling 5 fits\n",
            "[CV] END .colsample_bytree=0.3, max_depth=5, n_estimators=10; total time=   1.9s\n",
            "[CV] END .colsample_bytree=0.3, max_depth=5, n_estimators=10; total time=   7.3s\n",
            "[CV] END .colsample_bytree=0.3, max_depth=5, n_estimators=10; total time=  11.5s\n",
            "[CV] END .colsample_bytree=0.3, max_depth=5, n_estimators=10; total time=  11.9s\n",
            "[CV] END .colsample_bytree=0.3, max_depth=5, n_estimators=10; total time=  16.0s\n",
            "Best parameters found:  {'colsample_bytree': 0.3, 'max_depth': 5, 'n_estimators': 10}\n",
            "Lowest RMSE found:  2.7757386691804773\n"
          ]
        }
      ],
      "source": [
        "from sklearn.model_selection import TimeSeriesSplit\n",
        "from xgboost import XGBRegressor\n",
        "from sklearn.model_selection import GridSearchCV\n",
        "\n",
        "from sklearn.metrics import mean_squared_log_error\n",
        "\n",
        "tscv = TimeSeriesSplit()\n",
        "\n",
        "xgb = XGBRegressor(objective='reg:squarederror')\n",
        "\n",
        "gbm_param_grid = {\n",
        "    'n_estimators': [20],\n",
        "    'max_depth': [5]\n",
        "}\n",
        "\n",
        "gs = GridSearchCV(estimator=xgb, param_grid=gbm_param_grid, scoring='neg_mean_squared_log_error', cv=tscv, verbose=2)\n",
        "\n",
        "gs.fit(X_train, y_train)\n",
        "\n",
        "# Print the best parameters and lowest RMSE\n",
        "print(\"Best parameters found: \", gs.best_params_)\n",
        "print(\"Lowest RMSE found: \", np.sqrt(np.abs(gs.best_score_)))"
      ]
    },
    {
      "cell_type": "code",
      "execution_count": 40,
      "metadata": {
        "id": "eA67qKCgHcLy"
      },
      "outputs": [],
      "source": [
        "# xgboost = XGBRegressor(n_estimators=30, objective='reg:squarederror')\n",
        "\n",
        "# xgboost.fit(X_train, y_train,\n",
        "#     eval_set=[(X_train, y_train),(X_eval, y_eval)],\n",
        "#     early_stopping_rounds=50, verbose=True)"
      ]
    },
    {
      "cell_type": "code",
      "execution_count": 41,
      "metadata": {
        "colab": {
          "base_uri": "https://localhost:8080/",
          "height": 356
        },
        "id": "FQ9cEocDHcQl",
        "outputId": "437c512b-8939-413b-b913-f5e805b326f1"
      },
      "outputs": [
        {
          "data": {
            "image/png": "[encoded data removed]",
            "text/plain": [
              "<Figure size 432x288 with 1 Axes>"
            ]
          },
          "metadata": {
            "needs_background": "light"
          },
          "output_type": "display_data"
        }
      ],
      "source": [
        "from xgboost import plot_importance\n",
        "\n",
        "plot_importance(gs.best_estimator_)\n",
        "plt.show()"
      ]
    },
    {
      "cell_type": "code",
      "execution_count": 42,
      "metadata": {
        "id": "H3VSi6KvBT8i"
      },
      "outputs": [],
      "source": [
        "# eval_predicted = gs.predict(X_eval)\n",
        "# eval_predicted"
      ]
    },
    {
      "cell_type": "code",
      "execution_count": 43,
      "metadata": {
        "id": "oTPkn3ukUjUn"
      },
      "outputs": [],
      "source": [
        "# from sklearn.metrics import mean_squared_log_error\n",
        "\n",
        "# def RMSLE(y_true: np.array, y_pred: np.array) -> np.float64:\n",
        "#     return mean_squared_log_error(y_true, y_pred, squared=False)"
      ]
    },
    {
      "cell_type": "code",
      "execution_count": 44,
      "metadata": {
        "id": "jfTEdNdxUjb2"
      },
      "outputs": [],
      "source": [
        "# RMSLE(y_eval, abs(eval_predicted))"
      ]
    },
    {
      "cell_type": "markdown",
      "metadata": {
        "id": "_bBh_f5egpfF"
      },
      "source": [
        "# Predict for Kaggle test set"
      ]
    },
    {
      "cell_type": "code",
      "execution_count": 45,
      "metadata": {
        "id": "zPYru0Dkgs7W"
      },
      "outputs": [],
      "source": [
        "test_predicted = gs.predict(df_test[columns])"
      ]
    },
    {
      "cell_type": "code",
      "execution_count": 46,
      "metadata": {
        "id": "oK_sfidEgs_F"
      },
      "outputs": [],
      "source": [
        "dfs['sample_submission'].sales = test_predicted"
      ]
    },
    {
      "cell_type": "code",
      "execution_count": 47,
      "metadata": {
        "id": "_kfPiQLBgtEE"
      },
      "outputs": [],
      "source": [
        "dfs['sample_submission'].to_csv('submission.csv', index=False)"
      ]
    },
    {
      "cell_type": "code",
      "execution_count": 48,
      "metadata": {},
      "outputs": [
        {
          "data": {
            "text/html": [
              "<div>\n",
              "<style scoped>\n",
              "    .dataframe tbody tr th:only-of-type {\n",
              "        vertical-align: middle;\n",
              "    }\n",
              "\n",
              "    .dataframe tbody tr th {\n",
              "        vertical-align: top;\n",
              "    }\n",
              "\n",
              "    .dataframe thead th {\n",
              "        text-align: right;\n",
              "    }\n",
              "</style>\n",
              "<table border=\"1\" class=\"dataframe\">\n",
              "  <thead>\n",
              "    <tr style=\"text-align: right;\">\n",
              "      <th></th>\n",
              "      <th>id</th>\n",
              "      <th>sales</th>\n",
              "    </tr>\n",
              "  </thead>\n",
              "  <tbody>\n",
              "    <tr>\n",
              "      <th>0</th>\n",
              "      <td>3000888</td>\n",
              "      <td>213.471283</td>\n",
              "    </tr>\n",
              "    <tr>\n",
              "      <th>1</th>\n",
              "      <td>3000889</td>\n",
              "      <td>213.471283</td>\n",
              "    </tr>\n",
              "    <tr>\n",
              "      <th>2</th>\n",
              "      <td>3000890</td>\n",
              "      <td>402.595032</td>\n",
              "    </tr>\n",
              "    <tr>\n",
              "      <th>3</th>\n",
              "      <td>3000891</td>\n",
              "      <td>2748.662598</td>\n",
              "    </tr>\n",
              "    <tr>\n",
              "      <th>4</th>\n",
              "      <td>3000892</td>\n",
              "      <td>92.936813</td>\n",
              "    </tr>\n",
              "  </tbody>\n",
              "</table>\n",
              "</div>"
            ],
            "text/plain": [
              "        id       sales\n",
              "0  3000888  213.471283\n",
              "1  3000889  213.471283\n",
              "2  3000890  402.595032\n",
              "3  3000891 2748.662598\n",
              "4  3000892   92.936813"
            ]
          },
          "execution_count": 48,
          "metadata": {},
          "output_type": "execute_result"
        }
      ],
      "source": [
        "dfs['sample_submission'].head()"
      ]
    },
    {
      "cell_type": "code",
      "execution_count": 49,
      "metadata": {},
      "outputs": [
        {
          "data": {
            "text/html": [
              "<div>\n",
              "<style scoped>\n",
              "    .dataframe tbody tr th:only-of-type {\n",
              "        vertical-align: middle;\n",
              "    }\n",
              "\n",
              "    .dataframe tbody tr th {\n",
              "        vertical-align: top;\n",
              "    }\n",
              "\n",
              "    .dataframe thead th {\n",
              "        text-align: right;\n",
              "    }\n",
              "</style>\n",
              "<table border=\"1\" class=\"dataframe\">\n",
              "  <thead>\n",
              "    <tr style=\"text-align: right;\">\n",
              "      <th></th>\n",
              "      <th>id</th>\n",
              "      <th>date</th>\n",
              "      <th>store_nbr</th>\n",
              "      <th>sales</th>\n",
              "      <th>onpromotion</th>\n",
              "      <th>weekday</th>\n",
              "      <th>year</th>\n",
              "      <th>month</th>\n",
              "      <th>day_of_year</th>\n",
              "      <th>day_from_global_start</th>\n",
              "      <th>...</th>\n",
              "      <th>family_MAGAZINES</th>\n",
              "      <th>family_MEATS</th>\n",
              "      <th>family_PERSONAL CARE</th>\n",
              "      <th>family_PET SUPPLIES</th>\n",
              "      <th>family_PLAYERS AND ELECTRONICS</th>\n",
              "      <th>family_POULTRY</th>\n",
              "      <th>family_PREPARED FOODS</th>\n",
              "      <th>family_PRODUCE</th>\n",
              "      <th>family_SCHOOL AND OFFICE SUPPLIES</th>\n",
              "      <th>family_SEAFOOD</th>\n",
              "    </tr>\n",
              "  </thead>\n",
              "  <tbody>\n",
              "    <tr>\n",
              "      <th>3000888</th>\n",
              "      <td>3000888</td>\n",
              "      <td>2017-08-16</td>\n",
              "      <td>1</td>\n",
              "      <td>NaN</td>\n",
              "      <td>0</td>\n",
              "      <td>2</td>\n",
              "      <td>2017</td>\n",
              "      <td>8</td>\n",
              "      <td>256</td>\n",
              "      <td>1688</td>\n",
              "      <td>...</td>\n",
              "      <td>0</td>\n",
              "      <td>0</td>\n",
              "      <td>0</td>\n",
              "      <td>0</td>\n",
              "      <td>0</td>\n",
              "      <td>0</td>\n",
              "      <td>0</td>\n",
              "      <td>0</td>\n",
              "      <td>0</td>\n",
              "      <td>0</td>\n",
              "    </tr>\n",
              "    <tr>\n",
              "      <th>3000889</th>\n",
              "      <td>3000889</td>\n",
              "      <td>2017-08-16</td>\n",
              "      <td>1</td>\n",
              "      <td>NaN</td>\n",
              "      <td>0</td>\n",
              "      <td>2</td>\n",
              "      <td>2017</td>\n",
              "      <td>8</td>\n",
              "      <td>256</td>\n",
              "      <td>1688</td>\n",
              "      <td>...</td>\n",
              "      <td>0</td>\n",
              "      <td>0</td>\n",
              "      <td>0</td>\n",
              "      <td>0</td>\n",
              "      <td>0</td>\n",
              "      <td>0</td>\n",
              "      <td>0</td>\n",
              "      <td>0</td>\n",
              "      <td>0</td>\n",
              "      <td>0</td>\n",
              "    </tr>\n",
              "    <tr>\n",
              "      <th>3000890</th>\n",
              "      <td>3000890</td>\n",
              "      <td>2017-08-16</td>\n",
              "      <td>1</td>\n",
              "      <td>NaN</td>\n",
              "      <td>2</td>\n",
              "      <td>2</td>\n",
              "      <td>2017</td>\n",
              "      <td>8</td>\n",
              "      <td>256</td>\n",
              "      <td>1688</td>\n",
              "      <td>...</td>\n",
              "      <td>0</td>\n",
              "      <td>0</td>\n",
              "      <td>0</td>\n",
              "      <td>0</td>\n",
              "      <td>0</td>\n",
              "      <td>0</td>\n",
              "      <td>0</td>\n",
              "      <td>0</td>\n",
              "      <td>0</td>\n",
              "      <td>0</td>\n",
              "    </tr>\n",
              "    <tr>\n",
              "      <th>3000891</th>\n",
              "      <td>3000891</td>\n",
              "      <td>2017-08-16</td>\n",
              "      <td>1</td>\n",
              "      <td>NaN</td>\n",
              "      <td>20</td>\n",
              "      <td>2</td>\n",
              "      <td>2017</td>\n",
              "      <td>8</td>\n",
              "      <td>256</td>\n",
              "      <td>1688</td>\n",
              "      <td>...</td>\n",
              "      <td>0</td>\n",
              "      <td>0</td>\n",
              "      <td>0</td>\n",
              "      <td>0</td>\n",
              "      <td>0</td>\n",
              "      <td>0</td>\n",
              "      <td>0</td>\n",
              "      <td>0</td>\n",
              "      <td>0</td>\n",
              "      <td>0</td>\n",
              "    </tr>\n",
              "    <tr>\n",
              "      <th>3000892</th>\n",
              "      <td>3000892</td>\n",
              "      <td>2017-08-16</td>\n",
              "      <td>1</td>\n",
              "      <td>NaN</td>\n",
              "      <td>0</td>\n",
              "      <td>2</td>\n",
              "      <td>2017</td>\n",
              "      <td>8</td>\n",
              "      <td>256</td>\n",
              "      <td>1688</td>\n",
              "      <td>...</td>\n",
              "      <td>0</td>\n",
              "      <td>0</td>\n",
              "      <td>0</td>\n",
              "      <td>0</td>\n",
              "      <td>0</td>\n",
              "      <td>0</td>\n",
              "      <td>0</td>\n",
              "      <td>0</td>\n",
              "      <td>0</td>\n",
              "      <td>0</td>\n",
              "    </tr>\n",
              "  </tbody>\n",
              "</table>\n",
              "<p>5 rows × 54 columns</p>\n",
              "</div>"
            ],
            "text/plain": [
              "              id       date  store_nbr  sales  onpromotion  weekday  year  \\\n",
              "3000888  3000888 2017-08-16          1    NaN            0        2  2017   \n",
              "3000889  3000889 2017-08-16          1    NaN            0        2  2017   \n",
              "3000890  3000890 2017-08-16          1    NaN            2        2  2017   \n",
              "3000891  3000891 2017-08-16          1    NaN           20        2  2017   \n",
              "3000892  3000892 2017-08-16          1    NaN            0        2  2017   \n",
              "\n",
              "         month  day_of_year  day_from_global_start  ...  family_MAGAZINES  \\\n",
              "3000888      8          256                   1688  ...                 0   \n",
              "3000889      8          256                   1688  ...                 0   \n",
              "3000890      8          256                   1688  ...                 0   \n",
              "3000891      8          256                   1688  ...                 0   \n",
              "3000892      8          256                   1688  ...                 0   \n",
              "\n",
              "        family_MEATS  family_PERSONAL CARE family_PET SUPPLIES  \\\n",
              "3000888            0                     0                   0   \n",
              "3000889            0                     0                   0   \n",
              "3000890            0                     0                   0   \n",
              "3000891            0                     0                   0   \n",
              "3000892            0                     0                   0   \n",
              "\n",
              "        family_PLAYERS AND ELECTRONICS  family_POULTRY  family_PREPARED FOODS  \\\n",
              "3000888                              0               0                      0   \n",
              "3000889                              0               0                      0   \n",
              "3000890                              0               0                      0   \n",
              "3000891                              0               0                      0   \n",
              "3000892                              0               0                      0   \n",
              "\n",
              "         family_PRODUCE  family_SCHOOL AND OFFICE SUPPLIES  family_SEAFOOD  \n",
              "3000888               0                                  0               0  \n",
              "3000889               0                                  0               0  \n",
              "3000890               0                                  0               0  \n",
              "3000891               0                                  0               0  \n",
              "3000892               0                                  0               0  \n",
              "\n",
              "[5 rows x 54 columns]"
            ]
          },
          "execution_count": 49,
          "metadata": {},
          "output_type": "execute_result"
        }
      ],
      "source": [
        "df_test.head()"
      ]
    },
    {
      "cell_type": "markdown",
      "metadata": {
        "id": "p-Lb_A-VUjzk"
      },
      "source": [
        "# Trash"
      ]
    },
    {
      "cell_type": "code",
      "execution_count": 50,
      "metadata": {
        "id": "FtBuf7ii_Au-"
      },
      "outputs": [],
      "source": [
        "# dfs['holidays_events'].transferred.value_counts()"
      ]
    },
    {
      "cell_type": "code",
      "execution_count": 51,
      "metadata": {
        "id": "ZbEu5GKUzuWW"
      },
      "outputs": [],
      "source": [
        "# df_full['is_holiday'] = df_full.apply(lambda x : (x.date - datetime.datetime(df_full.iloc[0].date.year, 1, 1)).days + 1, axis=1)\n"
      ]
    },
    {
      "cell_type": "code",
      "execution_count": 52,
      "metadata": {
        "id": "MUZWg5MexfQc"
      },
      "outputs": [],
      "source": [
        "# df_full.iloc[0].date.year"
      ]
    },
    {
      "cell_type": "code",
      "execution_count": 53,
      "metadata": {
        "id": "dh-EyV5dMBVb"
      },
      "outputs": [],
      "source": [
        "# dfs.keys()"
      ]
    }
  ],
  "metadata": {
    "colab": {
      "collapsed_sections": [],
      "provenance": []
    },
    "kernelspec": {
      "display_name": "Python 3.8.10 64-bit",
      "language": "python",
      "name": "python3"
    },
    "language_info": {
      "codemirror_mode": {
        "name": "ipython",
        "version": 3
      },
      "file_extension": ".py",
      "mimetype": "text/x-python",
      "name": "python",
      "nbconvert_exporter": "python",
      "pygments_lexer": "ipython3",
      "version": "3.8.10"
    },
    "vscode": {
      "interpreter": {
        "hash": "916dbcbb3f70747c44a77c7bcd40155683ae19c65e1c03b4aa3499c5328201f1"
      }
    }
  },
  "nbformat": 4,
  "nbformat_minor": 0
}
